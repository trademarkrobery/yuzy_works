{
 "cells": [
  {
   "cell_type": "markdown",
   "metadata": {
    "colab_type": "text",
    "id": "-YVnLryjH5e4"
   },
   "source": [
    "# Objectives\n",
    "---\n",
    "Here, our objective is to predict how much insurance charges will be charged by a client. For insurance companies, to predict the appropriate charges is beneficial to attract healthy clients by adjusting insurance fees individually and for new clients, accurate prediction improves their customer satisfactions unless they aware their healthy risks."
   ]
  },
  {
   "cell_type": "markdown",
   "metadata": {},
   "source": [
    "# Dataset"
   ]
  },
  {
   "cell_type": "markdown",
   "metadata": {
    "colab_type": "text",
    "id": "jwiKuLZEH5e1"
   },
   "source": [
    "American insurance company's data<br>\n",
    "References: https://www.kaggle.com/mirichoi0218/insurance <br><br>\n",
    "<br><br>\n",
    "\n",
    "**Datasets**\n",
    "\n",
    "- `age`: age of primary beneficiary\n",
    "- `sex`: insurance contractor gender, female, male\n",
    "- `bmi`: Body mass index, providing an understanding of body, weights that are relatively high or low relative to height, objective index of body weight (kg / m^2) using the ratio of height to weight, ideally 18.5 to 24.9\n",
    "- `children`: Number of children covered by health insurance / Number of dependents\n",
    "- `smoker`: Smoking\n",
    "- `region`: the beneficiary's residential area in the US, northeast, southeast, southwest, northwest.\n",
    "- `charges`: Individual medical costs billed by health insurance"
   ]
  },
  {
   "cell_type": "markdown",
   "metadata": {
    "colab_type": "text",
    "id": "JrcroTmpH5e9"
   },
   "source": [
    "# Stragegy\n",
    "---"
   ]
  },
  {
   "cell_type": "markdown",
   "metadata": {},
   "source": [
    " - Objectives: To predict the charges by using client information.\n",
    " - Dependent variables: `charges`\n",
    " - Independent variables: `age`, `sex`, `bmi`, `children`, `smoker`, `region`\n",
    " - Regression models: Random Forest, XGB, LightGBM"
   ]
  },
  {
   "cell_type": "markdown",
   "metadata": {
    "colab_type": "text",
    "id": "ua4V4PuCH5fC"
   },
   "source": [
    "# Libraries\n",
    "---"
   ]
  },
  {
   "cell_type": "code",
   "execution_count": null,
   "metadata": {
    "ExecuteTime": {
     "end_time": "2020-06-25T14:45:08.596830Z",
     "start_time": "2020-06-25T14:45:03.357759Z"
    },
    "colab": {},
    "colab_type": "code",
    "id": "7fCnriSqQHV_",
    "scrolled": true
   },
   "outputs": [],
   "source": [
    "import numpy as np\n",
    "import pandas as pd \n",
    "import matplotlib.pyplot as plt\n",
    "%matplotlib inline\n",
    "import seaborn as sns\n",
    "from sklearn.preprocessing import StandardScaler, normalize\n",
    "from sklearn.model_selection import train_test_split, GridSearchCV\n",
    "from sklearn.model_selection import KFold\n",
    "from sklearn.tree import export_graphviz\n",
    "from sklearn.ensemble import RandomForestClassifier, RandomForestRegressor, GradientBoostingClassifier, GradientBoostingRegressor\n",
    "from sklearn.linear_model import LinearRegression, Lasso, Ridge\n",
    "from sklearn.model_selection import train_test_split\n",
    "from sklearn import metrics\n",
    "from sklearn.metrics import accuracy_score, f1_score, classification_report, confusion_matrix, roc_curve, roc_auc_score, mean_squared_error, mean_absolute_error, r2_score\n",
    "import xgboost as xgb\n",
    "import lightgbm as lgb\n",
    "from imblearn.over_sampling import SMOTE\n",
    "import pickle\n",
    "\n",
    "from mpl_toolkits.mplot3d import Axes3D\n",
    "\n",
    "import warnings\n",
    "warnings.simplefilter('ignore')"
   ]
  },
  {
   "cell_type": "markdown",
   "metadata": {
    "colab_type": "text",
    "id": "WP9SWxS4H5fW"
   },
   "source": [
    "# Check the data\n",
    "---"
   ]
  },
  {
   "cell_type": "markdown",
   "metadata": {
    "colab_type": "text",
    "id": "y2GV0zbiVtio"
   },
   "source": [
    "## `.read_csv()`"
   ]
  },
  {
   "cell_type": "code",
   "execution_count": null,
   "metadata": {
    "ExecuteTime": {
     "end_time": "2020-06-25T14:45:12.771717Z",
     "start_time": "2020-06-25T14:45:12.733307Z"
    },
    "colab": {},
    "colab_type": "code",
    "id": "TUNZ7--oR4LR"
   },
   "outputs": [],
   "source": [
    "data = pd.read_csv(\"insurance.csv\", engine='python', encoding='utf-8', index_col=\"id\")"
   ]
  },
  {
   "cell_type": "markdown",
   "metadata": {
    "colab_type": "text",
    "id": "ejMx8FxFLDZr"
   },
   "source": [
    "## `.shape`"
   ]
  },
  {
   "cell_type": "code",
   "execution_count": null,
   "metadata": {
    "ExecuteTime": {
     "end_time": "2020-06-25T14:45:16.586337Z",
     "start_time": "2020-06-25T14:45:16.577361Z"
    },
    "colab": {
     "base_uri": "https://localhost:8080/",
     "height": 36
    },
    "colab_type": "code",
    "executionInfo": {
     "elapsed": 1033,
     "status": "ok",
     "timestamp": 1584197904526,
     "user": {
      "displayName": "落合達也",
      "photoUrl": "",
      "userId": "06654067266936679108"
     },
     "user_tz": -540
    },
    "id": "pLn4ags2H5fg",
    "outputId": "6baaae1d-8ffa-49f8-c646-cb2e4e1dac7a",
    "scrolled": false
   },
   "outputs": [],
   "source": [
    "data.shape"
   ]
  },
  {
   "cell_type": "markdown",
   "metadata": {
    "colab_type": "text",
    "id": "5lDcMwbOLC37"
   },
   "source": [
    "## `.columns`"
   ]
  },
  {
   "cell_type": "code",
   "execution_count": null,
   "metadata": {
    "ExecuteTime": {
     "end_time": "2020-06-25T14:45:39.831177Z",
     "start_time": "2020-06-25T14:45:39.825193Z"
    },
    "colab": {
     "base_uri": "https://localhost:8080/",
     "height": 133
    },
    "colab_type": "code",
    "executionInfo": {
     "elapsed": 658,
     "status": "ok",
     "timestamp": 1584197904527,
     "user": {
      "displayName": "落合達也",
      "photoUrl": "",
      "userId": "06654067266936679108"
     },
     "user_tz": -540
    },
    "id": "a7NNU31iH5fj",
    "outputId": "8277f7b8-dcdc-4cc7-a769-915166b4691d",
    "scrolled": true
   },
   "outputs": [],
   "source": [
    "data.columns"
   ]
  },
  {
   "cell_type": "markdown",
   "metadata": {
    "colab_type": "text",
    "id": "JAXL4nQILWeh"
   },
   "source": [
    "## `.dtypes`"
   ]
  },
  {
   "cell_type": "code",
   "execution_count": null,
   "metadata": {
    "ExecuteTime": {
     "end_time": "2020-06-25T14:45:55.381538Z",
     "start_time": "2020-06-25T14:45:55.367575Z"
    },
    "colab": {
     "base_uri": "https://localhost:8080/",
     "height": 523
    },
    "colab_type": "code",
    "executionInfo": {
     "elapsed": 628,
     "status": "ok",
     "timestamp": 1584197904832,
     "user": {
      "displayName": "落合達也",
      "photoUrl": "",
      "userId": "06654067266936679108"
     },
     "user_tz": -540
    },
    "id": "cHmrMcSTH5fm",
    "outputId": "f849f8f1-c826-4682-b530-f0423c4a01a4",
    "scrolled": true
   },
   "outputs": [],
   "source": [
    "data.dtypes"
   ]
  },
  {
   "cell_type": "markdown",
   "metadata": {
    "colab_type": "text",
    "id": "AQspXHbELczM"
   },
   "source": [
    "## `.info()`"
   ]
  },
  {
   "cell_type": "code",
   "execution_count": null,
   "metadata": {
    "ExecuteTime": {
     "end_time": "2020-06-25T14:46:25.057808Z",
     "start_time": "2020-06-25T14:46:25.029886Z"
    },
    "colab": {
     "base_uri": "https://localhost:8080/",
     "height": 601
    },
    "colab_type": "code",
    "executionInfo": {
     "elapsed": 776,
     "status": "ok",
     "timestamp": 1584086802568,
     "user": {
      "displayName": "落合達也",
      "photoUrl": "",
      "userId": "06654067266936679108"
     },
     "user_tz": -540
    },
    "id": "wLQQqvuOH5fq",
    "outputId": "af22a3cd-d8cb-48aa-db8c-d9e18b518f31",
    "scrolled": false
   },
   "outputs": [],
   "source": [
    "data.info()"
   ]
  },
  {
   "cell_type": "markdown",
   "metadata": {
    "colab_type": "text",
    "id": "hTUPPHRfLgpc"
   },
   "source": [
    "## `.value_counts()`"
   ]
  },
  {
   "cell_type": "code",
   "execution_count": null,
   "metadata": {
    "ExecuteTime": {
     "end_time": "2020-06-25T14:47:07.016658Z",
     "start_time": "2020-06-25T14:47:06.992203Z"
    },
    "colab": {
     "base_uri": "https://localhost:8080/",
     "height": 75
    },
    "colab_type": "code",
    "executionInfo": {
     "elapsed": 658,
     "status": "ok",
     "timestamp": 1584086804408,
     "user": {
      "displayName": "落合達也",
      "photoUrl": "",
      "userId": "06654067266936679108"
     },
     "user_tz": -540
    },
    "id": "G51TTuvbH5fu",
    "outputId": "e9136a35-687c-4209-e8d1-b4c9073dd758",
    "scrolled": false
   },
   "outputs": [],
   "source": [
    "data['sex'].value_counts()"
   ]
  },
  {
   "cell_type": "code",
   "execution_count": null,
   "metadata": {
    "ExecuteTime": {
     "end_time": "2020-06-25T14:47:27.493180Z",
     "start_time": "2020-06-25T14:47:27.470717Z"
    },
    "scrolled": true
   },
   "outputs": [],
   "source": [
    "data['smoker'].value_counts()"
   ]
  },
  {
   "cell_type": "code",
   "execution_count": null,
   "metadata": {
    "ExecuteTime": {
     "end_time": "2020-06-25T14:47:38.463747Z",
     "start_time": "2020-06-25T14:47:38.433308Z"
    },
    "scrolled": false
   },
   "outputs": [],
   "source": [
    "data['region'].value_counts()"
   ]
  },
  {
   "cell_type": "markdown",
   "metadata": {
    "colab_type": "text",
    "id": "6ikpLtszLpAX"
   },
   "source": [
    "## `.head()` `.tail()`"
   ]
  },
  {
   "cell_type": "code",
   "execution_count": null,
   "metadata": {
    "ExecuteTime": {
     "end_time": "2020-06-25T14:48:51.122811Z",
     "start_time": "2020-06-25T14:48:51.049008Z"
    },
    "colab": {
     "base_uri": "https://localhost:8080/",
     "height": 218
    },
    "colab_type": "code",
    "executionInfo": {
     "elapsed": 768,
     "status": "ok",
     "timestamp": 1584086808506,
     "user": {
      "displayName": "落合達也",
      "photoUrl": "",
      "userId": "06654067266936679108"
     },
     "user_tz": -540
    },
    "id": "E_VusbshH5fy",
    "outputId": "a6e1f752-2fe0-483f-b9e5-1cc5ba56b17e",
    "scrolled": true
   },
   "outputs": [],
   "source": [
    "data.head(10)"
   ]
  },
  {
   "cell_type": "code",
   "execution_count": null,
   "metadata": {
    "ExecuteTime": {
     "end_time": "2020-06-25T14:49:06.734746Z",
     "start_time": "2020-06-25T14:49:06.713284Z"
    },
    "scrolled": true
   },
   "outputs": [],
   "source": [
    "data.tail()"
   ]
  },
  {
   "cell_type": "markdown",
   "metadata": {
    "colab_type": "text",
    "id": "2hyvkWSwH5f4"
   },
   "source": [
    "## Descriptive statistics"
   ]
  },
  {
   "cell_type": "code",
   "execution_count": null,
   "metadata": {
    "ExecuteTime": {
     "end_time": "2020-06-25T14:49:26.880039Z",
     "start_time": "2020-06-25T14:49:26.817690Z"
    },
    "colab": {
     "base_uri": "https://localhost:8080/",
     "height": 308
    },
    "colab_type": "code",
    "executionInfo": {
     "elapsed": 615,
     "status": "ok",
     "timestamp": 1584086813360,
     "user": {
      "displayName": "落合達也",
      "photoUrl": "",
      "userId": "06654067266936679108"
     },
     "user_tz": -540
    },
    "id": "ghJqlTZ3H5f5",
    "outputId": "09c4c9ad-c1b2-4ea8-8ebc-b56d8b16e207",
    "scrolled": false
   },
   "outputs": [],
   "source": [
    "data.describe()"
   ]
  },
  {
   "cell_type": "markdown",
   "metadata": {},
   "source": [
    "## Distribution and Correlation of variables"
   ]
  },
  {
   "cell_type": "code",
   "execution_count": null,
   "metadata": {
    "ExecuteTime": {
     "end_time": "2020-06-25T14:52:34.994755Z",
     "start_time": "2020-06-25T14:52:29.120796Z"
    }
   },
   "outputs": [],
   "source": [
    "g = sns.pairplot(data)"
   ]
  },
  {
   "cell_type": "markdown",
   "metadata": {},
   "source": [
    "## Missing values"
   ]
  },
  {
   "cell_type": "code",
   "execution_count": null,
   "metadata": {
    "ExecuteTime": {
     "end_time": "2020-06-25T14:56:10.332938Z",
     "start_time": "2020-06-25T14:56:10.317981Z"
    },
    "scrolled": true
   },
   "outputs": [],
   "source": [
    "data.isnull().sum()"
   ]
  },
  {
   "cell_type": "markdown",
   "metadata": {},
   "source": [
    "# Preprocess the data\n",
    "---"
   ]
  },
  {
   "cell_type": "markdown",
   "metadata": {},
   "source": [
    "## Chenge object to numerical"
   ]
  },
  {
   "cell_type": "markdown",
   "metadata": {},
   "source": [
    "### categorical values"
   ]
  },
  {
   "cell_type": "code",
   "execution_count": null,
   "metadata": {
    "ExecuteTime": {
     "end_time": "2020-06-25T14:57:57.121349Z",
     "start_time": "2020-06-25T14:57:57.110083Z"
    }
   },
   "outputs": [],
   "source": [
    "data[\"sex\"] = data[\"sex\"].replace({\"male\":1, \"female\":0})"
   ]
  },
  {
   "cell_type": "code",
   "execution_count": null,
   "metadata": {
    "ExecuteTime": {
     "end_time": "2020-06-25T14:58:16.815025Z",
     "start_time": "2020-06-25T14:58:16.807804Z"
    }
   },
   "outputs": [],
   "source": [
    "data[\"smoker\"] = data[\"smoker\"].replace({\"no\":0, \"yes\":1})"
   ]
  },
  {
   "cell_type": "markdown",
   "metadata": {},
   "source": [
    "### multi-categorical values"
   ]
  },
  {
   "cell_type": "code",
   "execution_count": null,
   "metadata": {
    "ExecuteTime": {
     "end_time": "2020-06-25T14:58:26.144950Z",
     "start_time": "2020-06-25T14:58:26.129479Z"
    }
   },
   "outputs": [],
   "source": [
    "data_region = pd.get_dummies(data[\"region\"], sparse=False)\n",
    "df = pd.concat([data, data_region], axis=1)\n",
    "df = df.drop(\"region\", axis=1)"
   ]
  },
  {
   "cell_type": "code",
   "execution_count": null,
   "metadata": {
    "ExecuteTime": {
     "end_time": "2020-06-25T14:59:44.293564Z",
     "start_time": "2020-06-25T14:59:44.274614Z"
    }
   },
   "outputs": [],
   "source": [
    "df.head()"
   ]
  },
  {
   "cell_type": "markdown",
   "metadata": {},
   "source": [
    "## Recheck the dist and corr"
   ]
  },
  {
   "cell_type": "code",
   "execution_count": null,
   "metadata": {
    "ExecuteTime": {
     "end_time": "2020-06-25T15:00:23.472930Z",
     "start_time": "2020-06-25T15:00:07.513760Z"
    }
   },
   "outputs": [],
   "source": [
    "sns.pairplot(df.drop([\"northeast\", \"northwest\", \"southeast\", \"southwest\"], axis=1))"
   ]
  },
  {
   "cell_type": "markdown",
   "metadata": {},
   "source": [
    "See the outliers in `charges`. Not many customers will charge more than 40000 USD."
   ]
  },
  {
   "cell_type": "markdown",
   "metadata": {},
   "source": [
    "# Regression models"
   ]
  },
  {
   "cell_type": "markdown",
   "metadata": {},
   "source": [
    "## Split the data"
   ]
  },
  {
   "cell_type": "markdown",
   "metadata": {},
   "source": [
    "`train_test_split()`"
   ]
  },
  {
   "cell_type": "code",
   "execution_count": null,
   "metadata": {
    "ExecuteTime": {
     "end_time": "2020-06-25T15:02:36.192138Z",
     "start_time": "2020-06-25T15:02:36.186156Z"
    },
    "colab": {
     "base_uri": "https://localhost:8080/",
     "height": 250
    },
    "colab_type": "code",
    "executionInfo": {
     "elapsed": 552,
     "status": "ok",
     "timestamp": 1584100240019,
     "user": {
      "displayName": "落合達也",
      "photoUrl": "",
      "userId": "06654067266936679108"
     },
     "user_tz": -540
    },
    "id": "Nm8GSqq5ue86",
    "outputId": "3f6baef9-de0e-4dec-f971-7de174ef6427"
   },
   "outputs": [],
   "source": [
    "y_reg_target = df['charges']"
   ]
  },
  {
   "cell_type": "code",
   "execution_count": null,
   "metadata": {
    "ExecuteTime": {
     "end_time": "2020-06-25T15:03:13.800184Z",
     "start_time": "2020-06-25T15:03:13.793202Z"
    }
   },
   "outputs": [],
   "source": [
    "df.columns"
   ]
  },
  {
   "cell_type": "code",
   "execution_count": null,
   "metadata": {
    "ExecuteTime": {
     "end_time": "2020-06-25T15:06:42.276454Z",
     "start_time": "2020-06-25T15:06:42.270287Z"
    },
    "colab": {
     "base_uri": "https://localhost:8080/",
     "height": 428
    },
    "colab_type": "code",
    "executionInfo": {
     "elapsed": 666,
     "status": "ok",
     "timestamp": 1584100281728,
     "user": {
      "displayName": "落合達也",
      "photoUrl": "",
      "userId": "06654067266936679108"
     },
     "user_tz": -540
    },
    "id": "mFJ17qRTufPr",
    "outputId": "33e70677-578c-4bed-8d7f-b3f0fd0e4a27"
   },
   "outputs": [],
   "source": [
    "X_reg_explanatory = df.drop([\"charges\"], axis=1)"
   ]
  },
  {
   "cell_type": "code",
   "execution_count": null,
   "metadata": {
    "ExecuteTime": {
     "end_time": "2020-06-25T15:09:02.044394Z",
     "start_time": "2020-06-25T15:09:02.034420Z"
    },
    "colab": {},
    "colab_type": "code",
    "id": "oU-oD6c2VsZ0"
   },
   "outputs": [],
   "source": [
    "X_train,X_test,y_train, y_test = train_test_split(X_reg_explanatory, y_reg_target, random_state=1, test_size=0.2)"
   ]
  },
  {
   "cell_type": "code",
   "execution_count": null,
   "metadata": {
    "ExecuteTime": {
     "end_time": "2020-06-25T15:09:03.267980Z",
     "start_time": "2020-06-25T15:09:03.260001Z"
    },
    "colab": {
     "base_uri": "https://localhost:8080/",
     "height": 36
    },
    "colab_type": "code",
    "executionInfo": {
     "elapsed": 1288,
     "status": "ok",
     "timestamp": 1584100518253,
     "user": {
      "displayName": "落合達也",
      "photoUrl": "",
      "userId": "06654067266936679108"
     },
     "user_tz": -540
    },
    "id": "4v7UfFDcvxXq",
    "outputId": "f928d886-54a8-4964-db12-80607b0cf9f5"
   },
   "outputs": [],
   "source": [
    "len(X_train), len(X_test)"
   ]
  },
  {
   "cell_type": "code",
   "execution_count": null,
   "metadata": {
    "ExecuteTime": {
     "end_time": "2020-06-25T15:09:18.633699Z",
     "start_time": "2020-06-25T15:09:18.624724Z"
    },
    "colab": {
     "base_uri": "https://localhost:8080/",
     "height": 36
    },
    "colab_type": "code",
    "executionInfo": {
     "elapsed": 1252,
     "status": "ok",
     "timestamp": 1584100582520,
     "user": {
      "displayName": "落合達也",
      "photoUrl": "",
      "userId": "06654067266936679108"
     },
     "user_tz": -540
    },
    "id": "pgzIQ8gNvxVf",
    "outputId": "e47b63db-62ac-49d5-aeb8-57112a92400d",
    "scrolled": false
   },
   "outputs": [],
   "source": [
    "len(y_train),len(y_test)"
   ]
  },
  {
   "cell_type": "markdown",
   "metadata": {},
   "source": [
    "Check the distributions of train and test data are equal."
   ]
  },
  {
   "cell_type": "code",
   "execution_count": null,
   "metadata": {
    "ExecuteTime": {
     "end_time": "2020-06-25T15:09:29.417580Z",
     "start_time": "2020-06-25T15:09:29.077457Z"
    }
   },
   "outputs": [],
   "source": [
    "y_train.hist()"
   ]
  },
  {
   "cell_type": "code",
   "execution_count": null,
   "metadata": {
    "ExecuteTime": {
     "end_time": "2020-06-25T15:09:30.416661Z",
     "start_time": "2020-06-25T15:09:30.148916Z"
    }
   },
   "outputs": [],
   "source": [
    "y_test.hist()"
   ]
  },
  {
   "cell_type": "markdown",
   "metadata": {},
   "source": [
    "Not so different. Good."
   ]
  },
  {
   "cell_type": "markdown",
   "metadata": {},
   "source": [
    "## Base models"
   ]
  },
  {
   "cell_type": "markdown",
   "metadata": {
    "colab_type": "text",
    "id": "_DEmD6qfH5hy"
   },
   "source": [
    "### Random Forest\n",
    "`RandomForestRegressor()`"
   ]
  },
  {
   "cell_type": "code",
   "execution_count": null,
   "metadata": {
    "ExecuteTime": {
     "end_time": "2020-06-25T15:10:20.166168Z",
     "start_time": "2020-06-25T15:10:19.500233Z"
    },
    "colab": {
     "base_uri": "https://localhost:8080/",
     "height": 172
    },
    "colab_type": "code",
    "executionInfo": {
     "elapsed": 7968,
     "status": "ok",
     "timestamp": 1584197932041,
     "user": {
      "displayName": "落合達也",
      "photoUrl": "",
      "userId": "06654067266936679108"
     },
     "user_tz": -540
    },
    "id": "aFCMwMMOH5hy",
    "outputId": "cdb63956-bc14-4778-f061-eef0ae4e0125",
    "scrolled": true
   },
   "outputs": [],
   "source": [
    "rf_model = RandomForestRegressor()\n",
    "rf_model.fit(X_train,y_train)"
   ]
  },
  {
   "cell_type": "markdown",
   "metadata": {
    "colab_type": "text",
    "id": "166tbtGjH5h0"
   },
   "source": [
    "### XGB\n",
    "`xgb.XGBRegressor()`"
   ]
  },
  {
   "cell_type": "code",
   "execution_count": null,
   "metadata": {
    "ExecuteTime": {
     "end_time": "2020-06-25T15:10:23.934447Z",
     "start_time": "2020-06-25T15:10:23.570907Z"
    },
    "colab": {
     "base_uri": "https://localhost:8080/",
     "height": 153
    },
    "colab_type": "code",
    "executionInfo": {
     "elapsed": 8263,
     "status": "ok",
     "timestamp": 1584197934652,
     "user": {
      "displayName": "落合達也",
      "photoUrl": "",
      "userId": "06654067266936679108"
     },
     "user_tz": -540
    },
    "id": "g85KCgxfH5h1",
    "outputId": "0688cc83-94be-4014-82d5-7cae3fb22abc",
    "scrolled": false
   },
   "outputs": [],
   "source": [
    "xgb_model = xgb.XGBRegressor()\n",
    "xgb_model.fit(X_train,y_train)"
   ]
  },
  {
   "cell_type": "markdown",
   "metadata": {},
   "source": [
    "### LightGBM"
   ]
  },
  {
   "cell_type": "markdown",
   "metadata": {},
   "source": [
    "`lgb.LGBMRegressor()`"
   ]
  },
  {
   "cell_type": "code",
   "execution_count": null,
   "metadata": {
    "ExecuteTime": {
     "end_time": "2020-06-25T15:10:57.835317Z",
     "start_time": "2020-06-25T15:10:57.644312Z"
    },
    "scrolled": true
   },
   "outputs": [],
   "source": [
    "lgb_model = lgb.LGBMRegressor()\n",
    "lgb_model.fit(X_train,y_train)"
   ]
  },
  {
   "cell_type": "markdown",
   "metadata": {
    "colab_type": "text",
    "id": "zzTLdb2bH5h7"
   },
   "source": [
    "## Prediction\n",
    "---"
   ]
  },
  {
   "cell_type": "markdown",
   "metadata": {
    "colab_type": "text",
    "id": "8dBfoTnj58Tr"
   },
   "source": [
    " `.predict()`"
   ]
  },
  {
   "cell_type": "markdown",
   "metadata": {
    "colab_type": "text",
    "id": "8Bk-9xB86U6I"
   },
   "source": [
    "### RF"
   ]
  },
  {
   "cell_type": "code",
   "execution_count": null,
   "metadata": {
    "ExecuteTime": {
     "end_time": "2020-06-25T15:12:26.547711Z",
     "start_time": "2020-06-25T15:12:26.506818Z"
    },
    "colab": {
     "base_uri": "https://localhost:8080/",
     "height": 36
    },
    "colab_type": "code",
    "executionInfo": {
     "elapsed": 5864,
     "status": "ok",
     "timestamp": 1584197934652,
     "user": {
      "displayName": "落合達也",
      "photoUrl": "",
      "userId": "06654067266936679108"
     },
     "user_tz": -540
    },
    "id": "7yoeXi4Y6zvX",
    "outputId": "c6b7f4c8-10c4-483b-fc79-9e6d44c8a52e",
    "scrolled": true
   },
   "outputs": [],
   "source": [
    "rf_pred = rf_model.predict(X_test)\n",
    "rf_pred"
   ]
  },
  {
   "cell_type": "markdown",
   "metadata": {
    "colab_type": "text",
    "id": "UJEdRe_M6Vbs"
   },
   "source": [
    "### XGB"
   ]
  },
  {
   "cell_type": "code",
   "execution_count": null,
   "metadata": {
    "ExecuteTime": {
     "end_time": "2020-06-25T15:12:30.542047Z",
     "start_time": "2020-06-25T15:12:30.513125Z"
    },
    "colab": {
     "base_uri": "https://localhost:8080/",
     "height": 36
    },
    "colab_type": "code",
    "executionInfo": {
     "elapsed": 5156,
     "status": "ok",
     "timestamp": 1584197934960,
     "user": {
      "displayName": "落合達也",
      "photoUrl": "",
      "userId": "06654067266936679108"
     },
     "user_tz": -540
    },
    "id": "F7dn9QKO7Lvz",
    "outputId": "b49bca9d-9f28-41c2-e37e-0950e6bfd9b5",
    "scrolled": true
   },
   "outputs": [],
   "source": [
    "xgb_pred = xgb_model.predict(X_test)\n",
    "xgb_pred"
   ]
  },
  {
   "cell_type": "markdown",
   "metadata": {},
   "source": [
    "### LightGBM"
   ]
  },
  {
   "cell_type": "code",
   "execution_count": null,
   "metadata": {
    "ExecuteTime": {
     "end_time": "2020-06-25T15:12:36.718768Z",
     "start_time": "2020-06-25T15:12:36.689845Z"
    }
   },
   "outputs": [],
   "source": [
    "lgb_pred = lgb_model.predict(X_test)\n",
    "lgb_pred"
   ]
  },
  {
   "cell_type": "markdown",
   "metadata": {},
   "source": [
    "## Accuracy\n",
    "---"
   ]
  },
  {
   "cell_type": "markdown",
   "metadata": {
    "colab_type": "text",
    "id": "T5GKMgeiG8kZ"
   },
   "source": [
    "### RF"
   ]
  },
  {
   "cell_type": "code",
   "execution_count": null,
   "metadata": {
    "ExecuteTime": {
     "end_time": "2020-06-25T15:14:02.947058Z",
     "start_time": "2020-06-25T15:14:02.937087Z"
    },
    "colab": {
     "base_uri": "https://localhost:8080/",
     "height": 36
    },
    "colab_type": "code",
    "executionInfo": {
     "elapsed": 3658,
     "status": "ok",
     "timestamp": 1584197934961,
     "user": {
      "displayName": "落合達也",
      "photoUrl": "",
      "userId": "06654067266936679108"
     },
     "user_tz": -540
    },
    "id": "OeN4VZhmH5h9",
    "outputId": "49b9fd23-1474-4ad3-ca80-bd0f142236bd"
   },
   "outputs": [],
   "source": [
    "# RMSE and MAE\n",
    "rmse_rf = np.sqrt(mean_squared_error(y_test, rf_pred))\n",
    "mae_rf = mean_absolute_error(y_test, rf_pred)\n",
    "\n",
    "print(\"RMSE:\", rmse_rf)\n",
    "print(\"MAE:\", mae_rf)"
   ]
  },
  {
   "cell_type": "code",
   "execution_count": null,
   "metadata": {
    "ExecuteTime": {
     "end_time": "2020-06-25T15:14:07.709797Z",
     "start_time": "2020-06-25T15:14:07.699827Z"
    }
   },
   "outputs": [],
   "source": [
    "# R2 score\n",
    "r2_rf = r2_score(y_test, rf_pred)\n",
    "r2_rf"
   ]
  },
  {
   "cell_type": "code",
   "execution_count": null,
   "metadata": {
    "ExecuteTime": {
     "end_time": "2020-06-25T15:14:11.728826Z",
     "start_time": "2020-06-25T15:14:11.407137Z"
    },
    "scrolled": true
   },
   "outputs": [],
   "source": [
    "# Scatter plot\n",
    "fig = plt.figure(figsize=(6,5))\n",
    "\n",
    "plt.scatter(y_test,rf_pred,color=\"blue\")\n",
    "x = np.arange(0, 40000)\n",
    "plt.plot(x,x,color=\"red\")\n",
    "plt.title(\"predicted_data vs test_data\")\n",
    "plt.xlabel(\"test_data\")\n",
    "plt.ylabel(\"predicted_data\")\n",
    "plt.show()"
   ]
  },
  {
   "cell_type": "markdown",
   "metadata": {},
   "source": [
    "Some data seem to deviate from the red line."
   ]
  },
  {
   "cell_type": "code",
   "execution_count": null,
   "metadata": {
    "ExecuteTime": {
     "end_time": "2020-06-25T15:19:42.647765Z",
     "start_time": "2020-06-25T15:19:42.355510Z"
    }
   },
   "outputs": [],
   "source": [
    "# Residual plots\n",
    "plt.scatter(rf_pred, rf_pred - y_test, color = 'blue')      # Plot the residuals\n",
    "plt.hlines(y = 0, xmin = -2000, xmax = 38000, color = 'black') # x-axis\n",
    "plt.title('Residual Plot')                                # Title\n",
    "plt.xlabel('Predicted Values')                            # x-label\n",
    "plt.ylabel('Residuals')                                   # y-label\n",
    "plt.grid()                                                # grid-line\n",
    "\n",
    "plt.show()                                               # Display "
   ]
  },
  {
   "cell_type": "markdown",
   "metadata": {},
   "source": [
    "It looks messed up."
   ]
  },
  {
   "cell_type": "markdown",
   "metadata": {
    "colab_type": "text",
    "id": "CaHVZD5oHCw4"
   },
   "source": [
    "### XGB"
   ]
  },
  {
   "cell_type": "code",
   "execution_count": null,
   "metadata": {
    "ExecuteTime": {
     "end_time": "2020-06-25T15:20:41.037098Z",
     "start_time": "2020-06-25T15:20:41.028122Z"
    },
    "colab": {
     "base_uri": "https://localhost:8080/",
     "height": 36
    },
    "colab_type": "code",
    "executionInfo": {
     "elapsed": 2708,
     "status": "ok",
     "timestamp": 1584197934962,
     "user": {
      "displayName": "落合達也",
      "photoUrl": "",
      "userId": "06654067266936679108"
     },
     "user_tz": -540
    },
    "id": "zAA9QrgJ1spE",
    "outputId": "0aba60a9-96bf-4e9c-f7f3-32b7e764e790",
    "scrolled": true
   },
   "outputs": [],
   "source": [
    "# RMSE and MAE\n",
    "rmse_xgb = np.sqrt(mean_squared_error(y_test, xgb_pred))\n",
    "mae_xgb = mean_absolute_error(y_test, xgb_pred)\n",
    "\n",
    "print(\"RMSE:\", rmse_xgb)\n",
    "print(\"MAE:\", mae_xgb)"
   ]
  },
  {
   "cell_type": "code",
   "execution_count": null,
   "metadata": {
    "ExecuteTime": {
     "end_time": "2020-06-25T15:20:41.927169Z",
     "start_time": "2020-06-25T15:20:41.919197Z"
    },
    "scrolled": true
   },
   "outputs": [],
   "source": [
    "# R2 score\n",
    "r2_xgb = r2_score(y_test, xgb_pred)\n",
    "r2_xgb"
   ]
  },
  {
   "cell_type": "code",
   "execution_count": null,
   "metadata": {
    "ExecuteTime": {
     "end_time": "2020-06-25T15:20:43.642559Z",
     "start_time": "2020-06-25T15:20:43.339856Z"
    },
    "scrolled": true
   },
   "outputs": [],
   "source": [
    "# Scatter plot\n",
    "fig = plt.figure(figsize=(6,5))\n",
    "\n",
    "plt.scatter(y_test,xgb_pred,color=\"blue\")\n",
    "x = np.arange(0, 40000)\n",
    "plt.plot(x,x,color=\"red\")\n",
    "plt.title(\"predicted_data vs test_data\")\n",
    "plt.xlabel(\"test_data\")\n",
    "plt.ylabel(\"predicted_data\")\n",
    "\n",
    "plt.show()\n"
   ]
  },
  {
   "cell_type": "markdown",
   "metadata": {},
   "source": []
  },
  {
   "cell_type": "code",
   "execution_count": null,
   "metadata": {
    "ExecuteTime": {
     "end_time": "2020-06-25T15:21:45.729890Z",
     "start_time": "2020-06-25T15:21:45.428181Z"
    }
   },
   "outputs": [],
   "source": [
    "# residual plot\n",
    "plt.scatter(xgb_pred, xgb_pred - y_test, color = 'blue')   \n",
    "plt.hlines(y = 0, xmin = -2000, xmax = 38000, color = 'black') \n",
    "plt.title('Residual Plot')                                \n",
    "plt.xlabel('Predicted Values')                            \n",
    "plt.ylabel('Residuals')                                   \n",
    "plt.grid()                                                \n",
    "\n",
    "plt.show()                                              "
   ]
  },
  {
   "cell_type": "markdown",
   "metadata": {},
   "source": []
  },
  {
   "cell_type": "markdown",
   "metadata": {},
   "source": [
    "### LightGBM"
   ]
  },
  {
   "cell_type": "code",
   "execution_count": null,
   "metadata": {
    "ExecuteTime": {
     "end_time": "2020-06-25T15:21:54.123375Z",
     "start_time": "2020-06-25T15:21:54.115391Z"
    }
   },
   "outputs": [],
   "source": [
    "# RMSE and MAE\n",
    "rmse_lgb = np.sqrt(mean_squared_error(y_test, lgb_pred))\n",
    "mae_lgb = mean_absolute_error(y_test, lgb_pred)\n",
    "\n",
    "print(\"RMSE:\", rmse_lgb)\n",
    "print(\"MAE:\", mae_lgb)"
   ]
  },
  {
   "cell_type": "code",
   "execution_count": null,
   "metadata": {
    "ExecuteTime": {
     "end_time": "2020-06-25T15:21:56.773893Z",
     "start_time": "2020-06-25T15:21:56.764917Z"
    },
    "scrolled": true
   },
   "outputs": [],
   "source": [
    "# R2 score\n",
    "r2_lgb = r2_score(y_test, lgb_pred)\n",
    "r2_lgb"
   ]
  },
  {
   "cell_type": "code",
   "execution_count": null,
   "metadata": {
    "ExecuteTime": {
     "end_time": "2020-06-25T15:22:11.017669Z",
     "start_time": "2020-06-25T15:22:10.695018Z"
    },
    "scrolled": true
   },
   "outputs": [],
   "source": [
    "# Scatter plot\n",
    "fig = plt.figure(figsize=(6,5))\n",
    "\n",
    "plt.scatter(y_test,lgb_pred,color=\"blue\")\n",
    "x = np.arange(0, 40000)\n",
    "plt.plot(x,x,color=\"red\")\n",
    "plt.title(\"predicted_data vs test_data\")\n",
    "plt.xlabel(\"test_data\")\n",
    "plt.ylabel(\"predicted_data\")\n",
    "\n",
    "plt.show()\n"
   ]
  },
  {
   "cell_type": "markdown",
   "metadata": {},
   "source": [
    "It looks better than the other above results."
   ]
  },
  {
   "cell_type": "code",
   "execution_count": null,
   "metadata": {
    "ExecuteTime": {
     "end_time": "2020-06-25T15:22:23.786767Z",
     "start_time": "2020-06-25T15:22:23.445673Z"
    },
    "scrolled": true
   },
   "outputs": [],
   "source": [
    "# Residual plot\n",
    "plt.scatter(rf_pred, lgb_pred - y_test, color = 'blue')      \n",
    "plt.hlines(y = 0, xmin = -2000, xmax = 38000, color = 'black') \n",
    "plt.title('Residual Plot')                                \n",
    "plt.xlabel('Predicted Values')                            \n",
    "plt.ylabel('Residuals')                                   \n",
    "plt.grid()                                                \n",
    "\n",
    "plt.show()                                               "
   ]
  },
  {
   "cell_type": "markdown",
   "metadata": {},
   "source": [
    "The residual is often negative."
   ]
  },
  {
   "cell_type": "markdown",
   "metadata": {},
   "source": [
    "## Parameter tunings"
   ]
  },
  {
   "cell_type": "markdown",
   "metadata": {},
   "source": [
    "### RF"
   ]
  },
  {
   "cell_type": "code",
   "execution_count": null,
   "metadata": {
    "ExecuteTime": {
     "end_time": "2020-06-25T11:59:40.275359Z",
     "start_time": "2020-06-25T11:59:40.268378Z"
    }
   },
   "outputs": [],
   "source": [
    "# Default\n",
    "rf_model"
   ]
  },
  {
   "cell_type": "markdown",
   "metadata": {},
   "source": [
    "#### Grid Search"
   ]
  },
  {
   "cell_type": "code",
   "execution_count": null,
   "metadata": {
    "ExecuteTime": {
     "end_time": "2020-06-25T12:00:13.382277Z",
     "start_time": "2020-06-25T12:00:13.377290Z"
    }
   },
   "outputs": [],
   "source": [
    "# # #Grid_Search\n",
    "# params = {\n",
    "#        'n_estimators'      : [50,100,150],\n",
    "#        'random_state'      : [1],\n",
    "#        'n_jobs'            : [-1],\n",
    "#        'min_samples_split' : [5, 10, 15],\n",
    "#        'max_depth'         : [3,4,5,6,7],\n",
    "#        'max_leaf_nodes'    : [15, 20, 25]\n",
    "# }\n",
    "# grid_rf = GridSearchCV(estimator=RandomForestRegressor(random_state=1), param_grid=params, \\\n",
    "#                        cv = 10, scoring = 'r2')\n",
    "# grid_rf.fit(X_train, y_train)\n",
    "# print(grid_rf.best_estimator_)"
   ]
  },
  {
   "cell_type": "code",
   "execution_count": null,
   "metadata": {
    "ExecuteTime": {
     "end_time": "2020-06-25T15:22:52.075109Z",
     "start_time": "2020-06-25T15:22:52.066134Z"
    }
   },
   "outputs": [],
   "source": [
    "# Best estimator\n",
    "grid_rf = RandomForestRegressor(bootstrap=True, ccp_alpha=0.0, criterion='mse',\n",
    "                      max_depth=4, max_features='auto', max_leaf_nodes=20,\n",
    "                      max_samples=None, min_impurity_decrease=0.0,\n",
    "                      min_impurity_split=None, min_samples_leaf=1,\n",
    "                      min_samples_split=10, min_weight_fraction_leaf=0.0,\n",
    "                      n_estimators=50, n_jobs=-1, oob_score=False,\n",
    "                      random_state=1, verbose=0, warm_start=False)"
   ]
  },
  {
   "cell_type": "markdown",
   "metadata": {},
   "source": [
    "#### Fitting"
   ]
  },
  {
   "cell_type": "code",
   "execution_count": null,
   "metadata": {
    "ExecuteTime": {
     "end_time": "2020-06-25T15:23:11.799926Z",
     "start_time": "2020-06-25T15:23:11.517117Z"
    },
    "scrolled": true
   },
   "outputs": [],
   "source": [
    "grid_rf.fit(X_train,y_train)"
   ]
  },
  {
   "cell_type": "markdown",
   "metadata": {},
   "source": [
    "#### Prediction"
   ]
  },
  {
   "cell_type": "code",
   "execution_count": null,
   "metadata": {
    "ExecuteTime": {
     "end_time": "2020-06-25T15:23:15.325560Z",
     "start_time": "2020-06-25T15:23:15.207744Z"
    }
   },
   "outputs": [],
   "source": [
    "grid_rf_pred = grid_rf.predict(X_test)"
   ]
  },
  {
   "cell_type": "markdown",
   "metadata": {},
   "source": [
    "#### Accuracy"
   ]
  },
  {
   "cell_type": "code",
   "execution_count": null,
   "metadata": {
    "ExecuteTime": {
     "end_time": "2020-06-25T15:23:17.362323Z",
     "start_time": "2020-06-25T15:23:17.353348Z"
    }
   },
   "outputs": [],
   "source": [
    "# RMSE and MAE\n",
    "grid_rf_rmse = np.sqrt(mean_squared_error(y_test, grid_rf_pred))\n",
    "grid_rf_mae = mean_absolute_error(y_test, grid_rf_pred)\n",
    "\n",
    "print(\"RMSE:\", grid_rf_rmse)\n",
    "print(\"MAE:\", grid_rf_mae)"
   ]
  },
  {
   "cell_type": "code",
   "execution_count": null,
   "metadata": {
    "ExecuteTime": {
     "end_time": "2020-06-25T15:23:20.472720Z",
     "start_time": "2020-06-25T15:23:20.463746Z"
    },
    "scrolled": true
   },
   "outputs": [],
   "source": [
    "# R2 score\n",
    "r2_grid_rf = r2_score(y_test, grid_rf_pred)\n",
    "r2_grid_rf"
   ]
  },
  {
   "cell_type": "code",
   "execution_count": null,
   "metadata": {
    "ExecuteTime": {
     "end_time": "2020-06-25T15:23:23.727136Z",
     "start_time": "2020-06-25T15:23:23.462332Z"
    },
    "scrolled": false
   },
   "outputs": [],
   "source": [
    "# Scatter plot\n",
    "fig = plt.figure(figsize=(6,5))\n",
    "\n",
    "plt.scatter(y_test,grid_rf_pred,color=\"blue\")\n",
    "x = np.arange(0, 40000)\n",
    "plt.plot(x,x,color=\"red\")\n",
    "plt.title(\"predicted_data vs test_data\")\n",
    "plt.xlabel(\"test_data\")\n",
    "plt.ylabel(\"predicted_data\")\n",
    "\n",
    "plt.show()\n"
   ]
  },
  {
   "cell_type": "markdown",
   "metadata": {},
   "source": [
    "Improved than the base model"
   ]
  },
  {
   "cell_type": "code",
   "execution_count": null,
   "metadata": {
    "ExecuteTime": {
     "end_time": "2020-06-25T15:23:35.109247Z",
     "start_time": "2020-06-25T15:23:34.788106Z"
    },
    "scrolled": false
   },
   "outputs": [],
   "source": [
    "# Residual plot\n",
    "plt.scatter(grid_rf_pred, grid_rf_pred - y_test, color = 'blue')      \n",
    "plt.hlines(y = 0, xmin = -2000, xmax = 38000, color = 'black') \n",
    "plt.title('Residual Plot')                                \n",
    "plt.xlabel('Predicted Values')                            \n",
    "plt.ylabel('Residuals')                                   \n",
    "plt.grid()                                                \n",
    "\n",
    "plt.show()                                              "
   ]
  },
  {
   "cell_type": "markdown",
   "metadata": {},
   "source": [
    "The residuals still have the pattern biased to negative."
   ]
  },
  {
   "cell_type": "markdown",
   "metadata": {},
   "source": [
    "### XGB"
   ]
  },
  {
   "cell_type": "code",
   "execution_count": null,
   "metadata": {
    "ExecuteTime": {
     "end_time": "2020-06-25T12:03:05.534411Z",
     "start_time": "2020-06-25T12:03:05.522927Z"
    }
   },
   "outputs": [],
   "source": [
    "# Default\n",
    "xgb_model"
   ]
  },
  {
   "cell_type": "markdown",
   "metadata": {},
   "source": [
    "#### Grid Search"
   ]
  },
  {
   "cell_type": "code",
   "execution_count": null,
   "metadata": {
    "ExecuteTime": {
     "end_time": "2020-06-25T12:03:20.087402Z",
     "start_time": "2020-06-25T12:03:20.082418Z"
    }
   },
   "outputs": [],
   "source": [
    "# # #Grid_Search\n",
    "# params = {\n",
    "#        'n_estimators'      : [30,40,50],\n",
    "#        'random_state'      : [1],\n",
    "#        'n_jobs'            : [-1],\n",
    "#        'min_samples_split' : [3, 5, 7],\n",
    "#        'max_depth'         : [3,4,5,6,7],\n",
    "#        'max_leaf_nodes'    : [3, 5, 7]\n",
    "# }\n",
    "\n",
    "# grid_xgb = GridSearchCV(estimator=xgb.XGBRegressor(random_state=1), param_grid=params, \\\n",
    "#                        cv = 10, scoring = 'r2')\n",
    "# grid_xgb.fit(X_train, y_train)\n",
    "# print(grid_xgb.best_estimator_)"
   ]
  },
  {
   "cell_type": "code",
   "execution_count": null,
   "metadata": {
    "ExecuteTime": {
     "end_time": "2020-06-25T15:23:45.136547Z",
     "start_time": "2020-06-25T15:23:45.126575Z"
    }
   },
   "outputs": [],
   "source": [
    "# Best estimator\n",
    "grid_xgb = xgb.XGBRegressor(base_score=0.5, booster='gbtree', colsample_bylevel=1,\n",
    "             colsample_bynode=1, colsample_bytree=1, gamma=0,\n",
    "             importance_type='gain', learning_rate=0.1, max_delta_step=0,\n",
    "             max_depth=3, max_leaf_nodes=3, min_child_weight=1,\n",
    "             min_samples_split=3, missing=None, n_estimators=40, n_jobs=-1,\n",
    "             nthread=None, objective='reg:linear', random_state=1, reg_alpha=0,\n",
    "             reg_lambda=1, scale_pos_weight=1, seed=None, silent=None,\n",
    "             subsample=1, verbosity=1)"
   ]
  },
  {
   "cell_type": "markdown",
   "metadata": {},
   "source": [
    "#### Fitting"
   ]
  },
  {
   "cell_type": "code",
   "execution_count": null,
   "metadata": {
    "ExecuteTime": {
     "end_time": "2020-06-25T15:23:48.664442Z",
     "start_time": "2020-06-25T15:23:48.578675Z"
    },
    "scrolled": true
   },
   "outputs": [],
   "source": [
    "grid_xgb.fit(X_train,y_train)"
   ]
  },
  {
   "cell_type": "markdown",
   "metadata": {},
   "source": [
    "#### Prediction"
   ]
  },
  {
   "cell_type": "code",
   "execution_count": null,
   "metadata": {
    "ExecuteTime": {
     "end_time": "2020-06-25T15:23:54.992305Z",
     "start_time": "2020-06-25T15:23:54.980339Z"
    }
   },
   "outputs": [],
   "source": [
    "grid_xgb_pred = grid_xgb.predict(X_test)"
   ]
  },
  {
   "cell_type": "markdown",
   "metadata": {},
   "source": [
    "#### Accuracy"
   ]
  },
  {
   "cell_type": "code",
   "execution_count": null,
   "metadata": {
    "ExecuteTime": {
     "end_time": "2020-06-25T15:23:56.914239Z",
     "start_time": "2020-06-25T15:23:56.906261Z"
    }
   },
   "outputs": [],
   "source": [
    "# RMSE and MAE\n",
    "grid_xgb_rmse = np.sqrt(mean_squared_error(y_test, grid_xgb_pred))\n",
    "grid_xgb_mae = mean_absolute_error(y_test, grid_xgb_pred)\n",
    "\n",
    "print(\"RMSE:\", grid_xgb_rmse)\n",
    "print(\"MAE:\", grid_xgb_mae)"
   ]
  },
  {
   "cell_type": "code",
   "execution_count": null,
   "metadata": {
    "ExecuteTime": {
     "end_time": "2020-06-25T15:24:02.420802Z",
     "start_time": "2020-06-25T15:24:02.411825Z"
    },
    "scrolled": false
   },
   "outputs": [],
   "source": [
    "# Check R2 score\n",
    "r2_grid_xgb = r2_score(y_test, grid_xgb_pred)\n",
    "r2_grid_xgb"
   ]
  },
  {
   "cell_type": "markdown",
   "metadata": {},
   "source": [
    "The parameter turning improved the performance of prediction!!"
   ]
  },
  {
   "cell_type": "code",
   "execution_count": null,
   "metadata": {
    "ExecuteTime": {
     "end_time": "2020-06-25T15:24:07.034423Z",
     "start_time": "2020-06-25T15:24:06.680358Z"
    },
    "scrolled": false
   },
   "outputs": [],
   "source": [
    "# Scatter plot\n",
    "fig = plt.figure(figsize=(6,5))\n",
    "\n",
    "plt.scatter(y_test,grid_xgb_pred,color=\"blue\")\n",
    "x = np.arange(0, 40000)\n",
    "plt.plot(x,x,color=\"red\")\n",
    "plt.title(\"predicted_data vs test_data\")\n",
    "plt.xlabel(\"test_data\")\n",
    "plt.ylabel(\"predicted_data\")\n",
    "\n",
    "plt.show()\n"
   ]
  },
  {
   "cell_type": "markdown",
   "metadata": {},
   "source": [
    "Generally the predicted values follow the red line."
   ]
  },
  {
   "cell_type": "code",
   "execution_count": null,
   "metadata": {
    "ExecuteTime": {
     "end_time": "2020-06-25T15:24:18.111869Z",
     "start_time": "2020-06-25T15:24:17.837239Z"
    }
   },
   "outputs": [],
   "source": [
    "# Residual plot\n",
    "plt.scatter(grid_xgb_pred, grid_xgb_pred - y_test, color = 'blue')     \n",
    "plt.hlines(y = 0, xmin = -2000, xmax = 38000, color = 'black') \n",
    "plt.title('Residual Plot')                                \n",
    "plt.xlabel('Predicted Values')                            \n",
    "plt.ylabel('Residuals')                                   \n",
    "plt.grid()                                                \n",
    "\n",
    "plt.show()                                               "
   ]
  },
  {
   "cell_type": "markdown",
   "metadata": {},
   "source": [
    "### LightGBM"
   ]
  },
  {
   "cell_type": "code",
   "execution_count": null,
   "metadata": {
    "ExecuteTime": {
     "end_time": "2020-06-25T15:24:29.795113Z",
     "start_time": "2020-06-25T15:24:29.788136Z"
    }
   },
   "outputs": [],
   "source": [
    "# Default\n",
    "lgb_model"
   ]
  },
  {
   "cell_type": "markdown",
   "metadata": {},
   "source": [
    "#### Grid Search"
   ]
  },
  {
   "cell_type": "code",
   "execution_count": null,
   "metadata": {
    "ExecuteTime": {
     "end_time": "2020-06-25T12:06:06.986161Z",
     "start_time": "2020-06-25T12:06:06.981176Z"
    }
   },
   "outputs": [],
   "source": [
    "## #Grid_Search\n",
    "# params = {\n",
    "#        'n_estimators'      : [40,45,50],\n",
    "#        'random_state'      : [1],\n",
    "#        'n_jobs'            : [-1],\n",
    "#        'max_depth'         : [2,3,4],\n",
    "#        'num_leaves'    : [5,10,15]\n",
    "# }\n",
    "\n",
    "# grid_lgb = GridSearchCV(estimator=lgb.LGBMRegressor(random_state=1), param_grid=params, \\\n",
    "#                        cv = 10, scoring = 'r2')\n",
    "# grid_lgb.fit(X_train, y_train)\n",
    "# print(grid_lgb.best_estimator_)"
   ]
  },
  {
   "cell_type": "code",
   "execution_count": null,
   "metadata": {
    "ExecuteTime": {
     "end_time": "2020-06-25T15:24:32.948608Z",
     "start_time": "2020-06-25T15:24:32.940574Z"
    }
   },
   "outputs": [],
   "source": [
    "# Best estimator\n",
    "grid_lgb = lgb.LGBMRegressor(boosting_type='gbdt', class_weight=None, colsample_bytree=1.0,\n",
    "              importance_type='split', learning_rate=0.1, max_depth=3,\n",
    "              min_child_samples=20, min_child_weight=0.001, min_split_gain=0.0,\n",
    "              n_estimators=45, n_jobs=-1, num_leaves=10, objective=None,\n",
    "              random_state=1, reg_alpha=0.0, reg_lambda=0.0, silent=True,\n",
    "              subsample=1.0, subsample_for_bin=200000, subsample_freq=0)"
   ]
  },
  {
   "cell_type": "markdown",
   "metadata": {},
   "source": [
    "#### Fitting"
   ]
  },
  {
   "cell_type": "code",
   "execution_count": null,
   "metadata": {
    "ExecuteTime": {
     "end_time": "2020-06-25T15:24:36.043904Z",
     "start_time": "2020-06-25T15:24:35.998029Z"
    },
    "scrolled": true
   },
   "outputs": [],
   "source": [
    "grid_lgb.fit(X_train,y_train)"
   ]
  },
  {
   "cell_type": "markdown",
   "metadata": {},
   "source": [
    "#### Prediction"
   ]
  },
  {
   "cell_type": "code",
   "execution_count": null,
   "metadata": {
    "ExecuteTime": {
     "end_time": "2020-06-25T15:24:38.511815Z",
     "start_time": "2020-06-25T15:24:38.493322Z"
    }
   },
   "outputs": [],
   "source": [
    "grid_lgb_pred = grid_lgb.predict(X_test)"
   ]
  },
  {
   "cell_type": "markdown",
   "metadata": {},
   "source": [
    "#### Accuracy"
   ]
  },
  {
   "cell_type": "code",
   "execution_count": null,
   "metadata": {
    "ExecuteTime": {
     "end_time": "2020-06-25T15:24:40.833156Z",
     "start_time": "2020-06-25T15:24:40.824490Z"
    },
    "scrolled": true
   },
   "outputs": [],
   "source": [
    "# RMSE and MAE\n",
    "grid_lgb_rmse = np.sqrt(mean_squared_error(y_test, grid_lgb_pred))\n",
    "grid_lgb_mae = mean_absolute_error(y_test, grid_lgb_pred)\n",
    "\n",
    "print(\"RMSE:\", grid_lgb_rmse)\n",
    "print(\"MAE:\", grid_lgb_mae)"
   ]
  },
  {
   "cell_type": "code",
   "execution_count": null,
   "metadata": {
    "ExecuteTime": {
     "end_time": "2020-06-25T15:24:43.178541Z",
     "start_time": "2020-06-25T15:24:43.168567Z"
    },
    "scrolled": false
   },
   "outputs": [],
   "source": [
    "# Check R2 score\n",
    "r2_grid_lgb = r2_score(y_test, grid_lgb_pred)\n",
    "r2_grid_lgb"
   ]
  },
  {
   "cell_type": "markdown",
   "metadata": {},
   "source": [
    "R2 score increased by 2% compared with that of the base model."
   ]
  },
  {
   "cell_type": "code",
   "execution_count": null,
   "metadata": {
    "ExecuteTime": {
     "end_time": "2020-06-25T15:24:50.626278Z",
     "start_time": "2020-06-25T15:24:50.263422Z"
    },
    "scrolled": false
   },
   "outputs": [],
   "source": [
    "# Scatter plot\n",
    "fig = plt.figure(figsize=(6,5))\n",
    "\n",
    "plt.scatter(y_test,grid_lgb_pred,color=\"blue\")\n",
    "x = np.arange(0, 40000)\n",
    "plt.plot(x,x,color=\"red\")\n",
    "plt.title(\"predicted_data vs test_data\")\n",
    "plt.xlabel(\"test_data\")\n",
    "plt.ylabel(\"predicted_data\")\n",
    "\n",
    "plt.show()\n"
   ]
  },
  {
   "cell_type": "code",
   "execution_count": null,
   "metadata": {
    "ExecuteTime": {
     "end_time": "2020-06-25T15:24:57.218896Z",
     "start_time": "2020-06-25T15:24:56.984999Z"
    }
   },
   "outputs": [],
   "source": [
    "# Residual plot\n",
    "plt.scatter(grid_rf_pred, grid_xgb_pred - y_test, color = 'blue')       \n",
    "plt.hlines(y = 0, xmin = -2000, xmax = 38000, color = 'black') \n",
    "plt.title('Residual Plot')                              \n",
    "plt.xlabel('Predicted Values')                            \n",
    "plt.ylabel('Residuals')                                   \n",
    "plt.grid()                                                \n",
    "plt.show()                                               "
   ]
  },
  {
   "cell_type": "markdown",
   "metadata": {},
   "source": [
    "## Interpretation"
   ]
  },
  {
   "cell_type": "markdown",
   "metadata": {},
   "source": [
    "### Features Importance"
   ]
  },
  {
   "cell_type": "code",
   "execution_count": null,
   "metadata": {
    "ExecuteTime": {
     "end_time": "2020-06-25T17:55:19.360969Z",
     "start_time": "2020-06-25T17:55:18.931121Z"
    }
   },
   "outputs": [],
   "source": [
    "features = X_train.columns\n",
    "importances = rf_model.feature_importances_\n",
    "indices = np.argsort(importances)\n",
    "\n",
    "plt.figure(figsize=(12,10))\n",
    "plt.barh(range(len(indices)), importances[indices],  align='center')\n",
    "plt.yticks(range(len(indices)), features[indices])\n",
    "plt.show()"
   ]
  },
  {
   "cell_type": "markdown",
   "metadata": {},
   "source": [
    "`bmi` `age` `smoker` seem to be quite important."
   ]
  },
  {
   "cell_type": "markdown",
   "metadata": {},
   "source": [
    "### Summary"
   ]
  },
  {
   "cell_type": "markdown",
   "metadata": {},
   "source": [
    "Regression task：\n",
    "- The most accurate model：LightGBM\n",
    "- Accuracy：R2 score 88%"
   ]
  },
  {
   "cell_type": "markdown",
   "metadata": {},
   "source": [
    "### The work left to be done"
   ]
  },
  {
   "cell_type": "markdown",
   "metadata": {},
   "source": [
    "We can do the below things to improve our work!\n",
    "1. How are the models improved more?\n",
    "2. What kind of new experiments will be valuable?\n",
    "\n",
    "1.\n",
    " - Check the outliers in the existing experiment\n",
    " - Parameter tuning should be more done?\n",
    " - features engineering?\n",
    " \n",
    "2.\n",
    " - More variables, more data points\n",
    " - Acquire more domain knowledge"
   ]
  },
  {
   "cell_type": "markdown",
   "metadata": {},
   "source": [
    "## New case"
   ]
  },
  {
   "cell_type": "markdown",
   "metadata": {},
   "source": [
    "Assume there is a new client applying for the contract."
   ]
  },
  {
   "cell_type": "markdown",
   "metadata": {},
   "source": [
    "### Profile"
   ]
  },
  {
   "cell_type": "code",
   "execution_count": null,
   "metadata": {
    "ExecuteTime": {
     "end_time": "2020-06-25T15:29:53.843603Z",
     "start_time": "2020-06-25T15:29:53.832633Z"
    }
   },
   "outputs": [],
   "source": [
    "new_client = pd.DataFrame({\"id\":10000, \"age\":58, \"sex\":1, \"bmi\":22, \"children\":2, \"smoker\":1,\n",
    "                           \"northeast\":1, \"northwest\":0, \"southeast\":0, \"southwest\":0}, index=[0])\n",
    "new_client = new_client.set_index(\"id\")"
   ]
  },
  {
   "cell_type": "code",
   "execution_count": null,
   "metadata": {
    "ExecuteTime": {
     "end_time": "2020-06-25T15:29:54.253353Z",
     "start_time": "2020-06-25T15:29:54.235401Z"
    }
   },
   "outputs": [],
   "source": [
    "new_client"
   ]
  },
  {
   "cell_type": "markdown",
   "metadata": {},
   "source": [
    "### Prediction with LightGBM"
   ]
  },
  {
   "cell_type": "code",
   "execution_count": null,
   "metadata": {
    "ExecuteTime": {
     "end_time": "2020-06-25T15:29:55.139837Z",
     "start_time": "2020-06-25T15:29:55.129864Z"
    },
    "scrolled": false
   },
   "outputs": [],
   "source": [
    "lgb_new_client = lgb_model.predict(new_client)\n",
    "lgb_new_client"
   ]
  },
  {
   "cell_type": "markdown",
   "metadata": {},
   "source": [
    "Well, It is about 22000 USD."
   ]
  }
 ],
 "metadata": {
  "colab": {
   "collapsed_sections": [
    "nbBWZwkcH5iP",
    "ahSTGQycH5h3",
    "Q5VQtVA9H5h3",
    "un8W0DmvH5h6"
   ],
   "name": "Credit_Card_Default_Model_Comparison.ipynb",
   "provenance": [],
   "toc_visible": true
  },
  "kernelspec": {
   "display_name": "Python 3",
   "language": "python",
   "name": "python3"
  },
  "language_info": {
   "codemirror_mode": {
    "name": "ipython",
    "version": 3
   },
   "file_extension": ".py",
   "mimetype": "text/x-python",
   "name": "python",
   "nbconvert_exporter": "python",
   "pygments_lexer": "ipython3",
   "version": "3.7.6"
  },
  "latex_envs": {
   "LaTeX_envs_menu_present": true,
   "autoclose": false,
   "autocomplete": true,
   "bibliofile": "biblio.bib",
   "cite_by": "apalike",
   "current_citInitial": 1,
   "eqLabelWithNumbers": true,
   "eqNumInitial": 1,
   "hotkeys": {
    "equation": "Ctrl-E",
    "itemize": "Ctrl-I"
   },
   "labels_anchors": false,
   "latex_user_defs": false,
   "report_style_numbering": false,
   "user_envs_cfg": false
  },
  "toc": {
   "base_numbering": 1,
   "nav_menu": {},
   "number_sections": true,
   "sideBar": true,
   "skip_h1_title": false,
   "title_cell": "Table of Contents",
   "title_sidebar": "Contents",
   "toc_cell": false,
   "toc_position": {
    "height": "calc(100% - 180px)",
    "left": "10px",
    "top": "150px",
    "width": "346.229px"
   },
   "toc_section_display": true,
   "toc_window_display": false
  },
  "varInspector": {
   "cols": {
    "lenName": 16,
    "lenType": 16,
    "lenVar": 40
   },
   "kernels_config": {
    "python": {
     "delete_cmd_postfix": "",
     "delete_cmd_prefix": "del ",
     "library": "var_list.py",
     "varRefreshCmd": "print(var_dic_list())"
    },
    "r": {
     "delete_cmd_postfix": ") ",
     "delete_cmd_prefix": "rm(",
     "library": "var_list.r",
     "varRefreshCmd": "cat(var_dic_list()) "
    }
   },
   "types_to_exclude": [
    "module",
    "function",
    "builtin_function_or_method",
    "instance",
    "_Feature"
   ],
   "window_display": false
  }
 },
 "nbformat": 4,
 "nbformat_minor": 1
}
