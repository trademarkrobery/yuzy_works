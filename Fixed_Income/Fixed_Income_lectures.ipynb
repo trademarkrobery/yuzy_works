{
 "cells": [
  {
   "cell_type": "markdown",
   "metadata": {},
   "source": [
    "Basic Functions I created: "
   ]
  },
  {
   "cell_type": "code",
   "execution_count": 1,
   "metadata": {},
   "outputs": [],
   "source": [
    "# Function of bond price\n",
    "def bond_price(m,t,coupon_rate,ytm,fv):\n",
    "    C = coupon_rate * fv / m\n",
    "    n = t * m\n",
    "    r = ytm / m\n",
    "    P = C * ((1-(1+r)**(-n)))/r + fv*(1+r)**(-n)\n",
    "    return P\n",
    "\n",
    "# Function of partial period method\n",
    "def partial_period_method(m,t,coupon_rate,ytm,fv, remainder_months):\n",
    "    v = remainder_months *  26/183\n",
    "    C = (coupon_rate*fv) / m\n",
    "    n = t*m\n",
    "    r = ytm/m\n",
    "    partial_price = (1+r)**(-v) * (C * (1-(1+r)**(-(n-1)))/r + fv*(1+r)**(-(n-1)))\n",
    "    return partial_price"
   ]
  },
  {
   "cell_type": "markdown",
   "metadata": {},
   "source": [
    "# Lecture 1\n",
    "Skip due to the easiness."
   ]
  },
  {
   "cell_type": "markdown",
   "metadata": {},
   "source": [
    "# Lecture 2"
   ]
  },
  {
   "cell_type": "markdown",
   "metadata": {},
   "source": [
    "## Bond price"
   ]
  },
  {
   "cell_type": "markdown",
   "metadata": {},
   "source": [
    "m = Number of payments per period (e.g., m=2 for semiannually payments) <br>\n",
    "t = Number of years to maturity <br>\n",
    "coupon_rate = Coupon rate (in decimals terms)<br>\n",
    "ytm = Yield to maturity (in decimals terms) <br>\n",
    "fv = The Bond’s Face Value <br>\n",
    "\n",
    "C = (coupon_rate * fv) / m <br>\n",
    "n = t * m <br>\n",
    "r = ytm / m <br>"
   ]
  },
  {
   "cell_type": "markdown",
   "metadata": {},
   "source": [
    "The formula of bond price: <br>\n",
    "𝑃 = 𝐶 * (1−(𝑟+1)^(−𝑛)) / 𝑟 + 𝑓𝑣 * (𝑟 + 1)^(−𝑛)"
   ]
  },
  {
   "cell_type": "code",
   "execution_count": null,
   "metadata": {},
   "outputs": [],
   "source": [
    "import sympy\n",
    "from sympy import symbols\n",
    "P, C, r, n, fv = sympy.symbols('P C r n fv')\n",
    "eq = sympy.Eq(P, C * ((1-1/(1+r)**n))/r + fv/(1+r)**n)\n",
    "eq"
   ]
  },
  {
   "cell_type": "code",
   "execution_count": null,
   "metadata": {
    "scrolled": true
   },
   "outputs": [],
   "source": [
    "# Given by questions\n",
    "m = 2\n",
    "t = 12\n",
    "coupon_rate = 0.08\n",
    "ytm = 0.06\n",
    "fv = 100\n",
    "\n",
    "# Calculate C, n, r\n",
    "C = (coupon_rate*fv) / m\n",
    "n = t*m\n",
    "r = ytm/m\n",
    "\n",
    "# Formula of bond price\n",
    "P = C * ((1-(1+r)**(-n)))/r + fv*(1+r)**(-n)\n",
    "\n",
    "# The price is; \n",
    "print (P)"
   ]
  },
  {
   "cell_type": "code",
   "execution_count": null,
   "metadata": {},
   "outputs": [],
   "source": [
    "# Function of bond price\n",
    "def bond_price(m,t,coupon_rate,ytm,fv):\n",
    "    C = coupon_rate * fv / m\n",
    "    n = t * m\n",
    "    r = ytm / m\n",
    "    P = C * ((1-(1+r)**(-n)))/r + fv*(1+r)**(-n)\n",
    "    return P"
   ]
  },
  {
   "cell_type": "code",
   "execution_count": null,
   "metadata": {},
   "outputs": [],
   "source": [
    "# Example of bond price\n",
    "m, t, coupon_rate, ytm, fv = 2, 12, 0.08, 0.06, 100\n",
    "bond_price(m, t, coupon_rate, ytm, fv)"
   ]
  },
  {
   "cell_type": "markdown",
   "metadata": {},
   "source": [
    "## Partial period method"
   ]
  },
  {
   "cell_type": "markdown",
   "metadata": {},
   "source": [
    "m = 2 <br>\n",
    "t = 1 <br>\n",
    "coupon_rate = 0.05 <br>\n",
    "ytm = 0.06 <br>\n",
    "fv = 1000 <br>\n",
    "\n",
    "C = (coupon_rate * fv) / m <br>\n",
    "n = t * m <br>\n",
    "r = ytm/m <br>\n",
    "\n",
    "v = 78/183 <br>\n",
    "\n",
    "The formula of partial period method: <br>\n",
    "𝑃 = (𝑟 + 1)^(−𝑣) * {𝐶 * (1 − (𝑟 + 1)^(1−𝑛)) * 𝑟^(-1) + 𝑓𝑣 * (𝑟 + 1)^(1−𝑛))"
   ]
  },
  {
   "cell_type": "code",
   "execution_count": null,
   "metadata": {},
   "outputs": [],
   "source": [
    "import sympy\n",
    "from sympy import symbols\n",
    "P, C, r, n, fv, v = sympy.symbols('P C r n fv, v')\n",
    "eq = sympy.Eq(P, (1+r)**(-v) * (C * (1-(1+r)**(-(n-1)))/r + fv*(1+r)**(-(n-1))))\n",
    "eq"
   ]
  },
  {
   "cell_type": "code",
   "execution_count": 4,
   "metadata": {},
   "outputs": [
    {
     "name": "stdout",
     "output_type": "stream",
     "text": [
      "982.6866061067525\n"
     ]
    }
   ],
   "source": [
    "# Given by questions\n",
    "m = 2\n",
    "t = 1\n",
    "coupon_rate = 0.05\n",
    "ytm = 0.06\n",
    "fv = 1000\n",
    "\n",
    "# Calculate C, n, r\n",
    "C = (coupon_rate*fv) / m\n",
    "n = t*m\n",
    "r = ytm/m\n",
    "\n",
    "# Impute the remained days\n",
    "remainder_months = 3\n",
    "v = remainder_months * 26/183\n",
    "\n",
    "# Formula of partial period method\n",
    "partial_P = (1+r)**(-v) * (C * (1-(1+r)**(-(n-1)))/r + fv*(1+r)**(-(n-1)))\n",
    "    \n",
    "print (partial_P)"
   ]
  },
  {
   "cell_type": "code",
   "execution_count": 5,
   "metadata": {},
   "outputs": [],
   "source": [
    "# Function of partial period method\n",
    "def partial_period_method(m,t,coupon_rate,ytm,fv, remainder_months):\n",
    "    v = remainder_months *  26/183\n",
    "    C = (coupon_rate*fv) / m\n",
    "    n = t*m\n",
    "    r = ytm/m\n",
    "    partial_price = (1+r)**(-v) * (C * (1-(1+r)**(-(n-1)))/r + fv*(1+r)**(-(n-1)))\n",
    "    return partial_price"
   ]
  },
  {
   "cell_type": "code",
   "execution_count": 6,
   "metadata": {},
   "outputs": [
    {
     "data": {
      "text/plain": [
       "982.6866061067525"
      ]
     },
     "execution_count": 6,
     "metadata": {},
     "output_type": "execute_result"
    }
   ],
   "source": [
    "# Example of partial period method\n",
    "m,t,coupon_rate,ytm,fv, remainder_months = 2,1,0.05,0.06,1000,3\n",
    "partial_period_method(m,t,coupon_rate,ytm,fv, remainder_months)"
   ]
  },
  {
   "cell_type": "markdown",
   "metadata": {},
   "source": [
    "## YTM"
   ]
  },
  {
   "cell_type": "markdown",
   "metadata": {},
   "source": [
    "https://www.wolframalpha.com/input/ <br>\n",
    "Too comlicated to solve on Python. Find out the r which meets the below equation! <br>\n",
    "P = C * ((1-(1+r)^(-n)))/r + fv * (1+r)^(-n) <br>\n",
    "\n",
    "Finally, ytm is solved like this. <br>\n",
    "ytm = 2 * r"
   ]
  },
  {
   "cell_type": "markdown",
   "metadata": {},
   "source": [
    "# Lecture 3"
   ]
  },
  {
   "cell_type": "markdown",
   "metadata": {},
   "source": [
    "## Price value of a basis point"
   ]
  },
  {
   "cell_type": "code",
   "execution_count": 8,
   "metadata": {},
   "outputs": [
    {
     "name": "stdout",
     "output_type": "stream",
     "text": [
      "116.93554212201639\n"
     ]
    }
   ],
   "source": [
    "# Current price\n",
    "# Given by questions\n",
    "m = 2\n",
    "t = 12\n",
    "coupon_rate = 0.08\n",
    "ytm = 0.06\n",
    "fv = 100\n",
    "\n",
    "# Calculate C, n, r\n",
    "C = (coupon_rate*fv) / m\n",
    "n = t*m\n",
    "r = ytm/m\n",
    "\n",
    "# Formula of bond price\n",
    "P_0 = bond_price(m,t,coupon_rate,ytm,fv)\n",
    "\n",
    "# The price is; \n",
    "print (P_0)"
   ]
  },
  {
   "cell_type": "code",
   "execution_count": 10,
   "metadata": {},
   "outputs": [
    {
     "data": {
      "text/plain": [
       "116.84179193029044"
      ]
     },
     "execution_count": 10,
     "metadata": {},
     "output_type": "execute_result"
    }
   ],
   "source": [
    "# ytm + 1 basis point(0.01%)\n",
    "P_1bp = bond_price(m,t,coupon_rate,ytm+0.0001,100)\n",
    "P_1bp"
   ]
  },
  {
   "cell_type": "code",
   "execution_count": 11,
   "metadata": {},
   "outputs": [
    {
     "data": {
      "text/plain": [
       "0.08017253781414184"
      ]
     },
     "execution_count": 11,
     "metadata": {},
     "output_type": "execute_result"
    }
   ],
   "source": [
    "# % change of one basis point\n",
    "import numpy as np\n",
    "\n",
    "np.abs(((P_1bp - P_0) / P_0) * 100)\n",
    "# 0.08%"
   ]
  },
  {
   "cell_type": "markdown",
   "metadata": {},
   "source": [
    "## Yield value of a price change"
   ]
  },
  {
   "cell_type": "code",
   "execution_count": 12,
   "metadata": {
    "scrolled": true
   },
   "outputs": [
    {
     "name": "stdout",
     "output_type": "stream",
     "text": [
      "97.39630529495435\n"
     ]
    }
   ],
   "source": [
    "# Current price\n",
    "# Given by questions\n",
    "m = 2\n",
    "t = 6\n",
    "coupon_rate = 0.04\n",
    "ytm = 0.045\n",
    "fv = 100\n",
    "\n",
    "# Calculate C, n, r\n",
    "C = (coupon_rate*fv) / m\n",
    "n = t*m\n",
    "r = ytm/m\n",
    "\n",
    "# Formula of bond price\n",
    "P_0 = bond_price(m,t,coupon_rate,ytm,fv)\n",
    "\n",
    "# The price is; \n",
    "print (P_0)"
   ]
  },
  {
   "cell_type": "markdown",
   "metadata": {},
   "source": [
    "https://www.wolframalpha.com/input/ <br>\n",
    "P = C * ((1-(1+r)^(-n)))/r + fv * (1+r)^(-n) <br>\n",
    "ytm = 2 * r"
   ]
  },
  {
   "cell_type": "markdown",
   "metadata": {},
   "source": [
    "## Duration"
   ]
  },
  {
   "cell_type": "code",
   "execution_count": 14,
   "metadata": {},
   "outputs": [
    {
     "name": "stdout",
     "output_type": "stream",
     "text": [
      "Duration: 1.8588644842651056\n",
      "Modified_duration: 1.7536457398727412\n"
     ]
    }
   ],
   "source": [
    "# Given by the questions\n",
    "m = 2\n",
    "t = 2\n",
    "coupon_rate = 0.1\n",
    "ytm = 0.12\n",
    "fv = 100\n",
    "\n",
    "# Calculate C, n, r\n",
    "C = (coupon_rate*fv) / m\n",
    "n = t*m\n",
    "r = ytm/m\n",
    "\n",
    "# Formula of bond price\n",
    "P = bond_price(m, t, coupon_rate, ytm, fv)\n",
    "\n",
    "# Basic function\n",
    "def f(i):\n",
    "    return (i * C) / (1+r)**i / P\n",
    "\n",
    "# Iterate the above calculations\n",
    "def macaulay_duration(func):\n",
    "    coupon_sum = 0;\n",
    "    for t in range(1, n+1):\n",
    "        coupon_sum += func(t)\n",
    "    sum = coupon_sum + (n * fv * (1+r)**(-n) / P)\n",
    "    result = sum / m\n",
    "    print('Duration:', result)\n",
    "    print('Modified_duration:', result / (1+r))\n",
    "\n",
    "# Run the function\n",
    "macaulay_duration(f)"
   ]
  },
  {
   "cell_type": "markdown",
   "metadata": {},
   "source": [
    "Modified duration:\n",
    "`% △price = -Modified_duration *  △YTM`"
   ]
  },
  {
   "cell_type": "code",
   "execution_count": null,
   "metadata": {
    "scrolled": true
   },
   "outputs": [],
   "source": [
    "# Example\n",
    "# In the case YTM goes up to 13% --> △YTM = 0.01\n",
    "per_change_price =  1.7536457398727412 * 0.01\n",
    "new_price = P * (1 - per_change_price)\n",
    "new_price"
   ]
  },
  {
   "cell_type": "markdown",
   "metadata": {},
   "source": [
    "## Convexity"
   ]
  },
  {
   "cell_type": "code",
   "execution_count": 15,
   "metadata": {
    "scrolled": true
   },
   "outputs": [
    {
     "name": "stdout",
     "output_type": "stream",
     "text": [
      "The price of the bond: 96.53489438730034\n",
      "convexity_half_yrs: 16.13314685749149\n",
      "convexity_measures: 4.033286714372872\n"
     ]
    }
   ],
   "source": [
    "# Given by the questions\n",
    "m = 2\n",
    "t = 2\n",
    "coupon_rate = 0.1\n",
    "ytm = 0.12\n",
    "fv = 100\n",
    "\n",
    "# Calculate C, n, r\n",
    "C = (coupon_rate*fv) / m\n",
    "n = t*m\n",
    "r = ytm/m\n",
    "\n",
    "# Formula of bond price\n",
    "P = bond_price(m,t,coupon_rate,ytm,fv)\n",
    "print(\"The price of the bond:\", P)\n",
    "\n",
    "# Basic function\n",
    "def f(t):\n",
    "    return C * t*(t + 1) / (1 + r)**(t + 2)\n",
    "\n",
    "# Iterate the above calculations\n",
    "def macaulay_duration(func):\n",
    "    coupon_sum = 0;\n",
    "    for i in range(1, n+1):\n",
    "        coupon_sum += func(i)\n",
    "    # Total CF\n",
    "    total_CF = coupon_sum + (fv * n * (n + 1) * (1 + r)**(-n-2))\n",
    "    convexity_half_yrs = total_CF / P\n",
    "    print('convexity_half_yrs:', convexity_half_yrs)\n",
    "    print('convexity_measures:', convexity_half_yrs / t**2)\n",
    "\n",
    "# Run the function\n",
    "macaulay_duration(f)"
   ]
  },
  {
   "cell_type": "markdown",
   "metadata": {},
   "source": [
    "`% △ price = 1/2 * (convexity_measure) * (△ YTM)**2`"
   ]
  },
  {
   "cell_type": "code",
   "execution_count": 16,
   "metadata": {
    "scrolled": true
   },
   "outputs": [
    {
     "data": {
      "text/plain": [
       "94.82215537936497"
      ]
     },
     "execution_count": 16,
     "metadata": {},
     "output_type": "execute_result"
    }
   ],
   "source": [
    "# Example\n",
    "# Percent price change due to convexity when △YTM = 0.01\n",
    "per_change_price_convexity = 1/2 * 4.033286714372872 * 0.101 **2\n",
    "per_change_price_convexity\n",
    "\n",
    "# percent change in price from modified duration                  \n",
    "per_change_price = 1.7536457398727412 * 0.01\n",
    "\n",
    "# In the case YTM goes up to 13% --> △YTM = 0.01\n",
    "price_change = per_change_price * 100 + per_change_price_convexity\n",
    "price_change\n",
    "\n",
    "# New price\n",
    "new_price = P * (1 - price_change * 1/100)\n",
    "new_price"
   ]
  },
  {
   "cell_type": "markdown",
   "metadata": {},
   "source": [
    "## Approximation of Bond's duration and convexity Measure"
   ]
  },
  {
   "cell_type": "markdown",
   "metadata": {},
   "source": [
    "Effective Modified Duration = (𝑃_down - 𝑃_up) / (2 * 𝑃_0 * (𝑑𝑌) <br>\n",
    "Effective Convexity = (𝑃_down + 𝑃_up − 2 * 𝑃_0) / (𝑃_0 * (𝑑𝑌)^2)\n",
    "\n",
    "Where P0 is the initial price, P- is the new price if Y (annualized yield) goes down by (dy), and P+ is the new price if Y (annualized yield) goes up by (dy)"
   ]
  },
  {
   "cell_type": "code",
   "execution_count": 17,
   "metadata": {
    "scrolled": true
   },
   "outputs": [
    {
     "name": "stdout",
     "output_type": "stream",
     "text": [
      "Effective Modified Duration: 10.617991102520026\n",
      "Effective Convexity 183.350626092669\n"
     ]
    }
   ],
   "source": [
    "# Example\n",
    "P_0 = 70.357\n",
    "dY = 0.001  ## 10 basis point * 0.01% = 0.1% = 0.001\n",
    "P_down = 71.1105\n",
    "P_up = 69.6164\n",
    "\n",
    "# Effective Modified Duration\n",
    "effective_modified_duration = (P_down - P_up) / (2 * P_0 * (dY))\n",
    "print(\"Effective Modified Duration:\", effective_modified_duration)\n",
    "\n",
    "# Effective Convexity\n",
    "effective_convexity = (P_down + P_up - 2 * P_0) / (P_0 * (dY)**2)\n",
    "print(\"Effective Convexity\", effective_convexity)"
   ]
  },
  {
   "cell_type": "markdown",
   "metadata": {},
   "source": [
    "## Practice Problems"
   ]
  },
  {
   "cell_type": "markdown",
   "metadata": {},
   "source": [
    "### Q1 Price-Yield Relationship\n",
    "You own a semi-annual coupon paying bond with $1,000 face value, \n",
    "4％ coupon rate, 1.5 years to maturity, and the current YTM is 5％.\n",
    "\n",
    "What is the price value of a basis point? <br>\n",
    "What is the yield value of a $1 price change? <br>"
   ]
  },
  {
   "cell_type": "code",
   "execution_count": null,
   "metadata": {},
   "outputs": [],
   "source": []
  },
  {
   "cell_type": "markdown",
   "metadata": {},
   "source": [
    "### Q2 A: Duration"
   ]
  },
  {
   "cell_type": "markdown",
   "metadata": {},
   "source": [
    "Find the duration of a semi-annual bond with $1,000 face value, a coupon rate of 4％, 1.5 years to maturity, and a current YTM of 5％."
   ]
  },
  {
   "cell_type": "code",
   "execution_count": null,
   "metadata": {},
   "outputs": [],
   "source": []
  },
  {
   "cell_type": "markdown",
   "metadata": {},
   "source": [
    "### Q2 B: Modified Duration"
   ]
  },
  {
   "cell_type": "markdown",
   "metadata": {},
   "source": [
    "For the bond in the previous question, find the modified duration and implied price change caused by a 0.01％ increase in interest rates."
   ]
  },
  {
   "cell_type": "code",
   "execution_count": null,
   "metadata": {},
   "outputs": [],
   "source": []
  },
  {
   "cell_type": "markdown",
   "metadata": {},
   "source": [
    "### Q3 Working with Duration"
   ]
  },
  {
   "cell_type": "markdown",
   "metadata": {},
   "source": [
    "Consider the bond used for the previous questions (semi-annual bond with $1,000 face value, a coupon rate of 4％, 1.5 years to maturity, and a current YTM of 5％).  Suppose you have a 1.5 year investment horizon and you intend to reinvest all coupons.  Would you rather own this bond instead of a zero-coupon bond with 1.5 years to maturity and a YTM of 5％ if: <br>\n",
    "\n",
    "A: You expect interest rates to rise and you intend to hold the bond until maturity <br>\n",
    "B: You expect interest rates to rise and you intend to sell the bond in one year <br>\n",
    "C: You expect interest rates to fall and you intend to hold the bond for one year <br>\n",
    "D: You expect interest rates to remain the same and you intend to hold the bond until maturity <br>\n",
    "E: You expect interest rates to remain the same and you intend to sell the bond in one year <br>\n"
   ]
  },
  {
   "cell_type": "code",
   "execution_count": null,
   "metadata": {},
   "outputs": [],
   "source": []
  },
  {
   "cell_type": "markdown",
   "metadata": {},
   "source": [
    "### Q4 Convexity"
   ]
  },
  {
   "cell_type": "markdown",
   "metadata": {},
   "source": [
    "Find the convexity of a semi-annual bond with $1,000 face value, a coupon rate of 4％, 1.5 years to maturity, and a current YTM of 5％. <br>\n",
    "\n",
    "For a 1％ change in interest rates, what is the percentage change in price due to convexity?"
   ]
  },
  {
   "cell_type": "code",
   "execution_count": null,
   "metadata": {},
   "outputs": [],
   "source": []
  },
  {
   "cell_type": "markdown",
   "metadata": {},
   "source": [
    "# Lecture 4"
   ]
  },
  {
   "cell_type": "markdown",
   "metadata": {},
   "source": [
    "## Investment Management Process"
   ]
  },
  {
   "cell_type": "markdown",
   "metadata": {},
   "source": [
    "1. Set the Investment Objectives\n",
    " - The liability structure\n",
    " - Big picture goals\n",
    "\n",
    "2. Establish an Investment Policy\n",
    " - Constraints and Objectives\n",
    " - Determine allocations\n",
    " - Specify rebalancing rules , Set guidelines to review the portfolio\n",
    "\n",
    "3. Select a Portfolio Strategy\n",
    " - Active strategies\n",
    " - Passive strategies\n",
    " - In-Between\n",
    " - Structured porffolio strategies\n",
    " - Determined by Beliefs about Market efficiency / The nature of the liability / Purpose of the funds\n",
    "\n",
    "4. Select Specific Assets\n",
    " - Individual securities, synergy with the existing porffolio\n",
    "\n",
    "5. Measure and Evaluate Performance\n",
    " - Over time\n",
    " - Progress to the objectives\n",
    " - Make changes if necessary"
   ]
  },
  {
   "cell_type": "markdown",
   "metadata": {},
   "source": [
    "## Active Bond Strategies"
   ]
  },
  {
   "cell_type": "markdown",
   "metadata": {},
   "source": [
    "### Yield Curve Strategies"
   ]
  },
  {
   "cell_type": "code",
   "execution_count": null,
   "metadata": {},
   "outputs": [],
   "source": []
  },
  {
   "cell_type": "markdown",
   "metadata": {},
   "source": [
    "### Other Strategies"
   ]
  },
  {
   "cell_type": "markdown",
   "metadata": {},
   "source": [
    "## Asset-Liability Management"
   ]
  },
  {
   "cell_type": "markdown",
   "metadata": {},
   "source": [
    "### Immunization"
   ]
  },
  {
   "cell_type": "markdown",
   "metadata": {},
   "source": [
    "### Immunization with multiple liabilities"
   ]
  },
  {
   "cell_type": "code",
   "execution_count": null,
   "metadata": {},
   "outputs": [],
   "source": []
  },
  {
   "cell_type": "code",
   "execution_count": null,
   "metadata": {},
   "outputs": [],
   "source": []
  },
  {
   "cell_type": "code",
   "execution_count": null,
   "metadata": {},
   "outputs": [],
   "source": []
  },
  {
   "cell_type": "code",
   "execution_count": null,
   "metadata": {},
   "outputs": [],
   "source": []
  }
 ],
 "metadata": {
  "kernelspec": {
   "display_name": "Python 3",
   "language": "python",
   "name": "python3"
  },
  "language_info": {
   "codemirror_mode": {
    "name": "ipython",
    "version": 3
   },
   "file_extension": ".py",
   "mimetype": "text/x-python",
   "name": "python",
   "nbconvert_exporter": "python",
   "pygments_lexer": "ipython3",
   "version": "3.7.3"
  },
  "latex_envs": {
   "LaTeX_envs_menu_present": true,
   "autoclose": false,
   "autocomplete": true,
   "bibliofile": "biblio.bib",
   "cite_by": "apalike",
   "current_citInitial": 1,
   "eqLabelWithNumbers": true,
   "eqNumInitial": 1,
   "hotkeys": {
    "equation": "Ctrl-E",
    "itemize": "Ctrl-I"
   },
   "labels_anchors": false,
   "latex_user_defs": false,
   "report_style_numbering": false,
   "user_envs_cfg": false
  },
  "toc": {
   "base_numbering": 1,
   "nav_menu": {},
   "number_sections": true,
   "sideBar": true,
   "skip_h1_title": false,
   "title_cell": "Table of Contents",
   "title_sidebar": "Contents",
   "toc_cell": false,
   "toc_position": {
    "height": "calc(100% - 180px)",
    "left": "10px",
    "top": "150px",
    "width": "165px"
   },
   "toc_section_display": true,
   "toc_window_display": false
  }
 },
 "nbformat": 4,
 "nbformat_minor": 2
}
