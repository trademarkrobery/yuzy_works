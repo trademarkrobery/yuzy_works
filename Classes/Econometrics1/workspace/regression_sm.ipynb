{
 "cells": [
  {
   "cell_type": "markdown",
   "metadata": {},
   "source": [
    "# Import the libraries and dataset"
   ]
  },
  {
   "cell_type": "code",
   "execution_count": null,
   "metadata": {},
   "outputs": [],
   "source": [
    "import numpy as np\n",
    "import matplotlib.pyplot as plt\n",
    "import pandas as pd\n",
    "import mglearn\n",
    "from IPython.display import display\n",
    "import statsmodels.api as sm\n",
    "import missingno as msno\n",
    "%matplotlib notebook\n",
    "import pandas_profiling as pdp\n",
    "\n",
    "pd.set_option('display.max_rows', 500)\n",
    "pd.set_option('display.max_columns', 500)\n",
    "pd.set_option('display.width', 1000)"
   ]
  },
  {
   "cell_type": "code",
   "execution_count": null,
   "metadata": {},
   "outputs": [],
   "source": [
    "data = pd.read_csv(\"wage2.csv\", sep=\" \", na_values=\".\")"
   ]
  },
  {
   "cell_type": "markdown",
   "metadata": {},
   "source": [
    "# Check the data"
   ]
  },
  {
   "cell_type": "code",
   "execution_count": null,
   "metadata": {},
   "outputs": [],
   "source": [
    "data.head(10)"
   ]
  },
  {
   "cell_type": "code",
   "execution_count": null,
   "metadata": {
    "scrolled": true
   },
   "outputs": [],
   "source": [
    "# # Show the profile report\n",
    "# pdp.ProfileReport(data)"
   ]
  },
  {
   "cell_type": "code",
   "execution_count": 8,
   "metadata": {},
   "outputs": [
    {
     "name": "stdout",
     "output_type": "stream",
     "text": [
      "<class 'pandas.core.frame.DataFrame'>\n",
      "RangeIndex: 935 entries, 0 to 934\n",
      "Data columns (total 17 columns):\n",
      "wage       935 non-null int64\n",
      "hours      935 non-null int64\n",
      "IQ         935 non-null int64\n",
      "KWW        935 non-null int64\n",
      "educ       935 non-null int64\n",
      "exper      935 non-null int64\n",
      "tenure     935 non-null int64\n",
      "age        935 non-null int64\n",
      "married    935 non-null int64\n",
      "black      935 non-null int64\n",
      "south      935 non-null int64\n",
      "urban      935 non-null int64\n",
      "sibs       935 non-null int64\n",
      "brthord    852 non-null float64\n",
      "meduc      857 non-null float64\n",
      "feduc      741 non-null float64\n",
      "lwage      935 non-null float64\n",
      "dtypes: float64(4), int64(13)\n",
      "memory usage: 124.3 KB\n"
     ]
    }
   ],
   "source": [
    "# data info\n",
    "data.info()"
   ]
  },
  {
   "cell_type": "code",
   "execution_count": 6,
   "metadata": {},
   "outputs": [],
   "source": [
    "# # change . to null\n",
    "# data\n",
    "# data['brthord'] = data['brthord'].replace({\".\": np.nan})\n",
    "# data['meduc'] = data['meduc'].replace({\".\": np.nan})\n",
    "# data['feduc'] = data['feduc'].replace({\".\": np.nan})"
   ]
  },
  {
   "cell_type": "code",
   "execution_count": 7,
   "metadata": {},
   "outputs": [],
   "source": [
    "# data[\"brthord\"] = data[\"brthord\"].astype(float)\n",
    "# data[\"meduc\"] = data[\"meduc\"].astype(float)\n",
    "# data[\"feduc\"] = data[\"feduc\"].astype(float)"
   ]
  },
  {
   "cell_type": "code",
   "execution_count": 9,
   "metadata": {
    "scrolled": true
   },
   "outputs": [
    {
     "data": {
      "text/plain": [
       "array([[<matplotlib.axes._subplots.AxesSubplot object at 0x000001272BA5D4A8>,\n",
       "        <matplotlib.axes._subplots.AxesSubplot object at 0x000001272BAEF208>,\n",
       "        <matplotlib.axes._subplots.AxesSubplot object at 0x000001272B228358>,\n",
       "        <matplotlib.axes._subplots.AxesSubplot object at 0x000001272AECB6A0>],\n",
       "       [<matplotlib.axes._subplots.AxesSubplot object at 0x000001272C288CC0>,\n",
       "        <matplotlib.axes._subplots.AxesSubplot object at 0x000001272C2DA6A0>,\n",
       "        <matplotlib.axes._subplots.AxesSubplot object at 0x000001272C926080>,\n",
       "        <matplotlib.axes._subplots.AxesSubplot object at 0x000001272C9ACA58>],\n",
       "       [<matplotlib.axes._subplots.AxesSubplot object at 0x000001272C9ACA90>,\n",
       "        <matplotlib.axes._subplots.AxesSubplot object at 0x000001272C549DA0>,\n",
       "        <matplotlib.axes._subplots.AxesSubplot object at 0x000001272C5A4780>,\n",
       "        <matplotlib.axes._subplots.AxesSubplot object at 0x000001272C642160>],\n",
       "       [<matplotlib.axes._subplots.AxesSubplot object at 0x000001272C68DB00>,\n",
       "        <matplotlib.axes._subplots.AxesSubplot object at 0x000001272C6ED4E0>,\n",
       "        <matplotlib.axes._subplots.AxesSubplot object at 0x000001272C7BBE80>,\n",
       "        <matplotlib.axes._subplots.AxesSubplot object at 0x000001272C9E6860>],\n",
       "       [<matplotlib.axes._subplots.AxesSubplot object at 0x000001272CACC240>,\n",
       "        <matplotlib.axes._subplots.AxesSubplot object at 0x000001272C500BE0>,\n",
       "        <matplotlib.axes._subplots.AxesSubplot object at 0x000001272C7195C0>,\n",
       "        <matplotlib.axes._subplots.AxesSubplot object at 0x000001272C768F60>]],\n",
       "      dtype=object)"
      ]
     },
     "execution_count": 9,
     "metadata": {},
     "output_type": "execute_result"
    },
    {
     "data": {
      "image/png": "[encoded data removed]",
      "text/plain": [
       "<Figure size 432x288 with 20 Axes>"
      ]
     },
     "metadata": {
      "needs_background": "light"
     },
     "output_type": "display_data"
    }
   ],
   "source": [
    "# Dataのデータフレームのヒストグラムを作成\n",
    "data.hist()"
   ]
  },
  {
   "cell_type": "code",
   "execution_count": 10,
   "metadata": {
    "scrolled": true
   },
   "outputs": [],
   "source": [
    "data = data.dropna()"
   ]
  },
  {
   "cell_type": "markdown",
   "metadata": {},
   "source": [
    "# Simple Linear Regression"
   ]
  },
  {
   "cell_type": "code",
   "execution_count": 15,
   "metadata": {},
   "outputs": [],
   "source": [
    "# Choose the variables\n",
    "y = data[\"lwage\"]\n",
    "x2 = data.drop([\"lwage\",\"wage\"], axis=1)"
   ]
  },
  {
   "cell_type": "code",
   "execution_count": 16,
   "metadata": {},
   "outputs": [
    {
     "name": "stderr",
     "output_type": "stream",
     "text": [
      "C:\\Users\\Yuzi\\Anaconda3\\lib\\site-packages\\numpy\\core\\fromnumeric.py:2389: FutureWarning: Method .ptp is deprecated and will be removed in a future version. Use numpy.ptp instead.\n",
      "  return ptp(axis=axis, out=out, **kwargs)\n"
     ]
    }
   ],
   "source": [
    "# Run the regression\n",
    "x = sm.add_constant(x2)\n",
    "results = sm.OLS(y,x).fit()"
   ]
  },
  {
   "cell_type": "code",
   "execution_count": 17,
   "metadata": {},
   "outputs": [
    {
     "data": {
      "text/html": [
       "<table class=\"simpletable\">\n",
       "<caption>OLS Regression Results</caption>\n",
       "<tr>\n",
       "  <th>Dep. Variable:</th>          <td>lwage</td>      <th>  R-squared:         </th> <td>   0.293</td>\n",
       "</tr>\n",
       "<tr>\n",
       "  <th>Model:</th>                   <td>OLS</td>       <th>  Adj. R-squared:    </th> <td>   0.276</td>\n",
       "</tr>\n",
       "<tr>\n",
       "  <th>Method:</th>             <td>Least Squares</td>  <th>  F-statistic:       </th> <td>   17.84</td>\n",
       "</tr>\n",
       "<tr>\n",
       "  <th>Date:</th>             <td>Wed, 09 Oct 2019</td> <th>  Prob (F-statistic):</th> <td>1.01e-39</td>\n",
       "</tr>\n",
       "<tr>\n",
       "  <th>Time:</th>                 <td>16:32:12</td>     <th>  Log-Likelihood:    </th> <td> -237.96</td>\n",
       "</tr>\n",
       "<tr>\n",
       "  <th>No. Observations:</th>      <td>   663</td>      <th>  AIC:               </th> <td>   507.9</td>\n",
       "</tr>\n",
       "<tr>\n",
       "  <th>Df Residuals:</th>          <td>   647</td>      <th>  BIC:               </th> <td>   579.9</td>\n",
       "</tr>\n",
       "<tr>\n",
       "  <th>Df Model:</th>              <td>    15</td>      <th>                     </th>     <td> </td>   \n",
       "</tr>\n",
       "<tr>\n",
       "  <th>Covariance Type:</th>      <td>nonrobust</td>    <th>                     </th>     <td> </td>   \n",
       "</tr>\n",
       "</table>\n",
       "<table class=\"simpletable\">\n",
       "<tr>\n",
       "     <td></td>        <th>coef</th>     <th>std err</th>      <th>t</th>      <th>P>|t|</th>  <th>[0.025</th>    <th>0.975]</th>  \n",
       "</tr>\n",
       "<tr>\n",
       "  <th>const</th>   <td>    5.1564</td> <td>    0.225</td> <td>   22.888</td> <td> 0.000</td> <td>    4.714</td> <td>    5.599</td>\n",
       "</tr>\n",
       "<tr>\n",
       "  <th>hours</th>   <td>   -0.0065</td> <td>    0.002</td> <td>   -3.385</td> <td> 0.001</td> <td>   -0.010</td> <td>   -0.003</td>\n",
       "</tr>\n",
       "<tr>\n",
       "  <th>IQ</th>      <td>    0.0032</td> <td>    0.001</td> <td>    2.604</td> <td> 0.009</td> <td>    0.001</td> <td>    0.006</td>\n",
       "</tr>\n",
       "<tr>\n",
       "  <th>KWW</th>     <td>    0.0037</td> <td>    0.002</td> <td>    1.562</td> <td> 0.119</td> <td>   -0.001</td> <td>    0.008</td>\n",
       "</tr>\n",
       "<tr>\n",
       "  <th>educ</th>    <td>    0.0413</td> <td>    0.009</td> <td>    4.615</td> <td> 0.000</td> <td>    0.024</td> <td>    0.059</td>\n",
       "</tr>\n",
       "<tr>\n",
       "  <th>exper</th>   <td>    0.0107</td> <td>    0.004</td> <td>    2.424</td> <td> 0.016</td> <td>    0.002</td> <td>    0.019</td>\n",
       "</tr>\n",
       "<tr>\n",
       "  <th>tenure</th>  <td>    0.0071</td> <td>    0.003</td> <td>    2.454</td> <td> 0.014</td> <td>    0.001</td> <td>    0.013</td>\n",
       "</tr>\n",
       "<tr>\n",
       "  <th>age</th>     <td>    0.0091</td> <td>    0.006</td> <td>    1.524</td> <td> 0.128</td> <td>   -0.003</td> <td>    0.021</td>\n",
       "</tr>\n",
       "<tr>\n",
       "  <th>married</th> <td>    0.2008</td> <td>    0.046</td> <td>    4.365</td> <td> 0.000</td> <td>    0.110</td> <td>    0.291</td>\n",
       "</tr>\n",
       "<tr>\n",
       "  <th>black</th>   <td>   -0.1051</td> <td>    0.056</td> <td>   -1.889</td> <td> 0.059</td> <td>   -0.214</td> <td>    0.004</td>\n",
       "</tr>\n",
       "<tr>\n",
       "  <th>south</th>   <td>   -0.0491</td> <td>    0.031</td> <td>   -1.596</td> <td> 0.111</td> <td>   -0.109</td> <td>    0.011</td>\n",
       "</tr>\n",
       "<tr>\n",
       "  <th>urban</th>   <td>    0.1957</td> <td>    0.031</td> <td>    6.263</td> <td> 0.000</td> <td>    0.134</td> <td>    0.257</td>\n",
       "</tr>\n",
       "<tr>\n",
       "  <th>sibs</th>    <td>    0.0096</td> <td>    0.008</td> <td>    1.221</td> <td> 0.222</td> <td>   -0.006</td> <td>    0.025</td>\n",
       "</tr>\n",
       "<tr>\n",
       "  <th>brthord</th> <td>   -0.0185</td> <td>    0.012</td> <td>   -1.596</td> <td> 0.111</td> <td>   -0.041</td> <td>    0.004</td>\n",
       "</tr>\n",
       "<tr>\n",
       "  <th>meduc</th>   <td>    0.0096</td> <td>    0.006</td> <td>    1.562</td> <td> 0.119</td> <td>   -0.002</td> <td>    0.022</td>\n",
       "</tr>\n",
       "<tr>\n",
       "  <th>feduc</th>   <td>    0.0056</td> <td>    0.005</td> <td>    1.036</td> <td> 0.301</td> <td>   -0.005</td> <td>    0.016</td>\n",
       "</tr>\n",
       "</table>\n",
       "<table class=\"simpletable\">\n",
       "<tr>\n",
       "  <th>Omnibus:</th>       <td>44.056</td> <th>  Durbin-Watson:     </th> <td>   1.869</td>\n",
       "</tr>\n",
       "<tr>\n",
       "  <th>Prob(Omnibus):</th> <td> 0.000</td> <th>  Jarque-Bera (JB):  </th> <td> 148.252</td>\n",
       "</tr>\n",
       "<tr>\n",
       "  <th>Skew:</th>          <td>-0.206</td> <th>  Prob(JB):          </th> <td>6.42e-33</td>\n",
       "</tr>\n",
       "<tr>\n",
       "  <th>Kurtosis:</th>      <td> 5.280</td> <th>  Cond. No.          </th> <td>2.07e+03</td>\n",
       "</tr>\n",
       "</table><br/><br/>Warnings:<br/>[1] Standard Errors assume that the covariance matrix of the errors is correctly specified.<br/>[2] The condition number is large, 2.07e+03. This might indicate that there are<br/>strong multicollinearity or other numerical problems."
      ],
      "text/plain": [
       "<class 'statsmodels.iolib.summary.Summary'>\n",
       "\"\"\"\n",
       "                            OLS Regression Results                            \n",
       "==============================================================================\n",
       "Dep. Variable:                  lwage   R-squared:                       0.293\n",
       "Model:                            OLS   Adj. R-squared:                  0.276\n",
       "Method:                 Least Squares   F-statistic:                     17.84\n",
       "Date:                Wed, 09 Oct 2019   Prob (F-statistic):           1.01e-39\n",
       "Time:                        16:32:12   Log-Likelihood:                -237.96\n",
       "No. Observations:                 663   AIC:                             507.9\n",
       "Df Residuals:                     647   BIC:                             579.9\n",
       "Df Model:                          15                                         \n",
       "Covariance Type:            nonrobust                                         \n",
       "==============================================================================\n",
       "                 coef    std err          t      P>|t|      [0.025      0.975]\n",
       "------------------------------------------------------------------------------\n",
       "const          5.1564      0.225     22.888      0.000       4.714       5.599\n",
       "hours         -0.0065      0.002     -3.385      0.001      -0.010      -0.003\n",
       "IQ             0.0032      0.001      2.604      0.009       0.001       0.006\n",
       "KWW            0.0037      0.002      1.562      0.119      -0.001       0.008\n",
       "educ           0.0413      0.009      4.615      0.000       0.024       0.059\n",
       "exper          0.0107      0.004      2.424      0.016       0.002       0.019\n",
       "tenure         0.0071      0.003      2.454      0.014       0.001       0.013\n",
       "age            0.0091      0.006      1.524      0.128      -0.003       0.021\n",
       "married        0.2008      0.046      4.365      0.000       0.110       0.291\n",
       "black         -0.1051      0.056     -1.889      0.059      -0.214       0.004\n",
       "south         -0.0491      0.031     -1.596      0.111      -0.109       0.011\n",
       "urban          0.1957      0.031      6.263      0.000       0.134       0.257\n",
       "sibs           0.0096      0.008      1.221      0.222      -0.006       0.025\n",
       "brthord       -0.0185      0.012     -1.596      0.111      -0.041       0.004\n",
       "meduc          0.0096      0.006      1.562      0.119      -0.002       0.022\n",
       "feduc          0.0056      0.005      1.036      0.301      -0.005       0.016\n",
       "==============================================================================\n",
       "Omnibus:                       44.056   Durbin-Watson:                   1.869\n",
       "Prob(Omnibus):                  0.000   Jarque-Bera (JB):              148.252\n",
       "Skew:                          -0.206   Prob(JB):                     6.42e-33\n",
       "Kurtosis:                       5.280   Cond. No.                     2.07e+03\n",
       "==============================================================================\n",
       "\n",
       "Warnings:\n",
       "[1] Standard Errors assume that the covariance matrix of the errors is correctly specified.\n",
       "[2] The condition number is large, 2.07e+03. This might indicate that there are\n",
       "strong multicollinearity or other numerical problems.\n",
       "\"\"\""
      ]
     },
     "execution_count": 17,
     "metadata": {},
     "output_type": "execute_result"
    }
   ],
   "source": [
    "# Show the results\n",
    "results.summary()"
   ]
  },
  {
   "cell_type": "code",
   "execution_count": null,
   "metadata": {},
   "outputs": [],
   "source": []
  }
 ],
 "metadata": {
  "kernelspec": {
   "display_name": "Python 3",
   "language": "python",
   "name": "python3"
  },
  "language_info": {
   "codemirror_mode": {
    "name": "ipython",
    "version": 3
   },
   "file_extension": ".py",
   "mimetype": "text/x-python",
   "name": "python",
   "nbconvert_exporter": "python",
   "pygments_lexer": "ipython3",
   "version": "3.7.3"
  }
 },
 "nbformat": 4,
 "nbformat_minor": 2
}
