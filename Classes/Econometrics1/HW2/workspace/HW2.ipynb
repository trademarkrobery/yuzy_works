{
 "cells": [
  {
   "cell_type": "markdown",
   "metadata": {},
   "source": [
    "# Import the libraries and dataset"
   ]
  },
  {
   "cell_type": "code",
   "execution_count": 1,
   "metadata": {},
   "outputs": [
    {
     "name": "stderr",
     "output_type": "stream",
     "text": [
      "C:\\Users\\Yuzi\\Anaconda3\\lib\\site-packages\\sklearn\\externals\\six.py:31: FutureWarning: The module is deprecated in version 0.21 and will be removed in version 0.23 since we've dropped support for Python 2.7. Please rely on the official version of six (https://pypi.org/project/six/).\n",
      "  \"(https://pypi.org/project/six/).\", FutureWarning)\n",
      "C:\\Users\\Yuzi\\Anaconda3\\lib\\site-packages\\sklearn\\externals\\joblib\\__init__.py:15: FutureWarning: sklearn.externals.joblib is deprecated in 0.21 and will be removed in 0.23. Please import this functionality directly from joblib, which can be installed with: pip install joblib. If this warning is raised when loading pickled models, you may need to re-serialize those models with scikit-learn 0.21+.\n",
      "  warnings.warn(msg, category=FutureWarning)\n"
     ]
    }
   ],
   "source": [
    "import numpy as np\n",
    "import matplotlib.pyplot as plt\n",
    "import pandas as pd\n",
    "import mglearn\n",
    "from IPython.display import display\n",
    "import statsmodels.api as sm\n",
    "import statsmodels\n",
    "from statsmodels.stats.diagnostic import het_white\n",
    "import missingno as msno\n",
    "%matplotlib notebook\n",
    "import pandas_profiling as pdp\n",
    "\n",
    "pd.set_option('display.max_rows', 500)\n",
    "pd.set_option('display.max_columns', 500)\n",
    "pd.set_option('display.width', 1000)\n",
    "\n",
    "import warnings\n",
    "warnings.simplefilter('ignore')"
   ]
  },
  {
   "cell_type": "code",
   "execution_count": 2,
   "metadata": {},
   "outputs": [],
   "source": [
    "data = pd.read_excel(\"wage1.xls\")\n",
    "data.columns = [\"wage\",\"educ\", \"exper\", \"tenure\", \"nonwhite\", \"female\", \"married\", \"numdep\",\n",
    "                \"smsa\", \"northcen\", \"south\", \"west\", \"construc\", \"ndurman\", \"trcommpu\", \"trade\", \n",
    "                \"services\", \"profserv\", \"profocc\", \"clerocc\", \"servocc\", \"lwage\", \"expersq\", \"tenurs\", ]"
   ]
  },
  {
   "cell_type": "markdown",
   "metadata": {},
   "source": [
    "# Check the data"
   ]
  },
  {
   "cell_type": "code",
   "execution_count": 3,
   "metadata": {},
   "outputs": [
    {
     "data": {
      "text/html": [
       "<div>\n",
       "<style scoped>\n",
       "    .dataframe tbody tr th:only-of-type {\n",
       "        vertical-align: middle;\n",
       "    }\n",
       "\n",
       "    .dataframe tbody tr th {\n",
       "        vertical-align: top;\n",
       "    }\n",
       "\n",
       "    .dataframe thead th {\n",
       "        text-align: right;\n",
       "    }\n",
       "</style>\n",
       "<table border=\"1\" class=\"dataframe\">\n",
       "  <thead>\n",
       "    <tr style=\"text-align: right;\">\n",
       "      <th></th>\n",
       "      <th>wage</th>\n",
       "      <th>educ</th>\n",
       "      <th>exper</th>\n",
       "      <th>tenure</th>\n",
       "      <th>nonwhite</th>\n",
       "      <th>female</th>\n",
       "      <th>married</th>\n",
       "      <th>numdep</th>\n",
       "      <th>smsa</th>\n",
       "      <th>northcen</th>\n",
       "      <th>south</th>\n",
       "      <th>west</th>\n",
       "      <th>construc</th>\n",
       "      <th>ndurman</th>\n",
       "      <th>trcommpu</th>\n",
       "      <th>trade</th>\n",
       "      <th>services</th>\n",
       "      <th>profserv</th>\n",
       "      <th>profocc</th>\n",
       "      <th>clerocc</th>\n",
       "      <th>servocc</th>\n",
       "      <th>lwage</th>\n",
       "      <th>expersq</th>\n",
       "      <th>tenurs</th>\n",
       "    </tr>\n",
       "  </thead>\n",
       "  <tbody>\n",
       "    <tr>\n",
       "      <th>0</th>\n",
       "      <td>3.10</td>\n",
       "      <td>11</td>\n",
       "      <td>2</td>\n",
       "      <td>0</td>\n",
       "      <td>0</td>\n",
       "      <td>1</td>\n",
       "      <td>0</td>\n",
       "      <td>2</td>\n",
       "      <td>1</td>\n",
       "      <td>0</td>\n",
       "      <td>0</td>\n",
       "      <td>1</td>\n",
       "      <td>0</td>\n",
       "      <td>0</td>\n",
       "      <td>0</td>\n",
       "      <td>0</td>\n",
       "      <td>0</td>\n",
       "      <td>0</td>\n",
       "      <td>0</td>\n",
       "      <td>0</td>\n",
       "      <td>0</td>\n",
       "      <td>1.131402</td>\n",
       "      <td>4</td>\n",
       "      <td>0</td>\n",
       "    </tr>\n",
       "    <tr>\n",
       "      <th>1</th>\n",
       "      <td>3.24</td>\n",
       "      <td>12</td>\n",
       "      <td>22</td>\n",
       "      <td>2</td>\n",
       "      <td>0</td>\n",
       "      <td>1</td>\n",
       "      <td>1</td>\n",
       "      <td>3</td>\n",
       "      <td>1</td>\n",
       "      <td>0</td>\n",
       "      <td>0</td>\n",
       "      <td>1</td>\n",
       "      <td>0</td>\n",
       "      <td>0</td>\n",
       "      <td>0</td>\n",
       "      <td>0</td>\n",
       "      <td>1</td>\n",
       "      <td>0</td>\n",
       "      <td>0</td>\n",
       "      <td>0</td>\n",
       "      <td>1</td>\n",
       "      <td>1.175573</td>\n",
       "      <td>484</td>\n",
       "      <td>4</td>\n",
       "    </tr>\n",
       "    <tr>\n",
       "      <th>2</th>\n",
       "      <td>3.00</td>\n",
       "      <td>11</td>\n",
       "      <td>2</td>\n",
       "      <td>0</td>\n",
       "      <td>0</td>\n",
       "      <td>0</td>\n",
       "      <td>0</td>\n",
       "      <td>2</td>\n",
       "      <td>0</td>\n",
       "      <td>0</td>\n",
       "      <td>0</td>\n",
       "      <td>1</td>\n",
       "      <td>0</td>\n",
       "      <td>0</td>\n",
       "      <td>0</td>\n",
       "      <td>1</td>\n",
       "      <td>0</td>\n",
       "      <td>0</td>\n",
       "      <td>0</td>\n",
       "      <td>0</td>\n",
       "      <td>0</td>\n",
       "      <td>1.098612</td>\n",
       "      <td>4</td>\n",
       "      <td>0</td>\n",
       "    </tr>\n",
       "    <tr>\n",
       "      <th>3</th>\n",
       "      <td>6.00</td>\n",
       "      <td>8</td>\n",
       "      <td>44</td>\n",
       "      <td>28</td>\n",
       "      <td>0</td>\n",
       "      <td>0</td>\n",
       "      <td>1</td>\n",
       "      <td>0</td>\n",
       "      <td>1</td>\n",
       "      <td>0</td>\n",
       "      <td>0</td>\n",
       "      <td>1</td>\n",
       "      <td>0</td>\n",
       "      <td>0</td>\n",
       "      <td>0</td>\n",
       "      <td>0</td>\n",
       "      <td>0</td>\n",
       "      <td>0</td>\n",
       "      <td>0</td>\n",
       "      <td>1</td>\n",
       "      <td>0</td>\n",
       "      <td>1.791759</td>\n",
       "      <td>1936</td>\n",
       "      <td>784</td>\n",
       "    </tr>\n",
       "    <tr>\n",
       "      <th>4</th>\n",
       "      <td>5.30</td>\n",
       "      <td>12</td>\n",
       "      <td>7</td>\n",
       "      <td>2</td>\n",
       "      <td>0</td>\n",
       "      <td>0</td>\n",
       "      <td>1</td>\n",
       "      <td>1</td>\n",
       "      <td>0</td>\n",
       "      <td>0</td>\n",
       "      <td>0</td>\n",
       "      <td>1</td>\n",
       "      <td>0</td>\n",
       "      <td>0</td>\n",
       "      <td>0</td>\n",
       "      <td>0</td>\n",
       "      <td>0</td>\n",
       "      <td>0</td>\n",
       "      <td>0</td>\n",
       "      <td>0</td>\n",
       "      <td>0</td>\n",
       "      <td>1.667707</td>\n",
       "      <td>49</td>\n",
       "      <td>4</td>\n",
       "    </tr>\n",
       "  </tbody>\n",
       "</table>\n",
       "</div>"
      ],
      "text/plain": [
       "   wage  educ  exper  tenure  nonwhite  female  married  numdep  smsa  northcen  south  west  construc  ndurman  trcommpu  trade  services  profserv  profocc  clerocc  servocc     lwage  expersq  tenurs\n",
       "0  3.10    11      2       0         0       1        0       2     1         0      0     1         0        0         0      0         0         0        0        0        0  1.131402        4       0\n",
       "1  3.24    12     22       2         0       1        1       3     1         0      0     1         0        0         0      0         1         0        0        0        1  1.175573      484       4\n",
       "2  3.00    11      2       0         0       0        0       2     0         0      0     1         0        0         0      1         0         0        0        0        0  1.098612        4       0\n",
       "3  6.00     8     44      28         0       0        1       0     1         0      0     1         0        0         0      0         0         0        0        1        0  1.791759     1936     784\n",
       "4  5.30    12      7       2         0       0        1       1     0         0      0     1         0        0         0      0         0         0        0        0        0  1.667707       49       4"
      ]
     },
     "execution_count": 3,
     "metadata": {},
     "output_type": "execute_result"
    }
   ],
   "source": [
    "data.head()"
   ]
  },
  {
   "cell_type": "code",
   "execution_count": 4,
   "metadata": {
    "scrolled": true
   },
   "outputs": [],
   "source": [
    "# # Show the profile report\n",
    "# pdp.ProfileReport(data)"
   ]
  },
  {
   "cell_type": "code",
   "execution_count": 5,
   "metadata": {},
   "outputs": [
    {
     "name": "stdout",
     "output_type": "stream",
     "text": [
      "<class 'pandas.core.frame.DataFrame'>\n",
      "RangeIndex: 526 entries, 0 to 525\n",
      "Data columns (total 24 columns):\n",
      "wage        526 non-null float64\n",
      "educ        526 non-null int64\n",
      "exper       526 non-null int64\n",
      "tenure      526 non-null int64\n",
      "nonwhite    526 non-null int64\n",
      "female      526 non-null int64\n",
      "married     526 non-null int64\n",
      "numdep      526 non-null int64\n",
      "smsa        526 non-null int64\n",
      "northcen    526 non-null int64\n",
      "south       526 non-null int64\n",
      "west        526 non-null int64\n",
      "construc    526 non-null int64\n",
      "ndurman     526 non-null int64\n",
      "trcommpu    526 non-null int64\n",
      "trade       526 non-null int64\n",
      "services    526 non-null int64\n",
      "profserv    526 non-null int64\n",
      "profocc     526 non-null int64\n",
      "clerocc     526 non-null int64\n",
      "servocc     526 non-null int64\n",
      "lwage       526 non-null float64\n",
      "expersq     526 non-null int64\n",
      "tenurs      526 non-null int64\n",
      "dtypes: float64(2), int64(22)\n",
      "memory usage: 98.7 KB\n"
     ]
    }
   ],
   "source": [
    "# data info\n",
    "data.info()"
   ]
  },
  {
   "cell_type": "code",
   "execution_count": 6,
   "metadata": {
    "scrolled": true
   },
   "outputs": [
    {
     "data": {
      "text/plain": [
       "array([[<matplotlib.axes._subplots.AxesSubplot object at 0x0000013603812588>,\n",
       "        <matplotlib.axes._subplots.AxesSubplot object at 0x000001360AA2ACF8>,\n",
       "        <matplotlib.axes._subplots.AxesSubplot object at 0x000001360A677128>,\n",
       "        <matplotlib.axes._subplots.AxesSubplot object at 0x000001360A70C588>,\n",
       "        <matplotlib.axes._subplots.AxesSubplot object at 0x000001360A694F28>],\n",
       "       [<matplotlib.axes._subplots.AxesSubplot object at 0x000001360A6B6908>,\n",
       "        <matplotlib.axes._subplots.AxesSubplot object at 0x000001360AA802E8>,\n",
       "        <matplotlib.axes._subplots.AxesSubplot object at 0x000001360AAA9CC0>,\n",
       "        <matplotlib.axes._subplots.AxesSubplot object at 0x000001360AAA9CF8>,\n",
       "        <matplotlib.axes._subplots.AxesSubplot object at 0x000001360AB1B048>],\n",
       "       [<matplotlib.axes._subplots.AxesSubplot object at 0x000001360AB469E8>,\n",
       "        <matplotlib.axes._subplots.AxesSubplot object at 0x000001360AB813C8>,\n",
       "        <matplotlib.axes._subplots.AxesSubplot object at 0x000001360ABADD68>,\n",
       "        <matplotlib.axes._subplots.AxesSubplot object at 0x000001360ABE6748>,\n",
       "        <matplotlib.axes._subplots.AxesSubplot object at 0x000001360BBF2128>],\n",
       "       [<matplotlib.axes._subplots.AxesSubplot object at 0x000001360BC1FAC8>,\n",
       "        <matplotlib.axes._subplots.AxesSubplot object at 0x000001360BC594A8>,\n",
       "        <matplotlib.axes._subplots.AxesSubplot object at 0x000001360BC87E48>,\n",
       "        <matplotlib.axes._subplots.AxesSubplot object at 0x000001360BCC1828>,\n",
       "        <matplotlib.axes._subplots.AxesSubplot object at 0x000001360BCFC208>],\n",
       "       [<matplotlib.axes._subplots.AxesSubplot object at 0x000001360BD29BA8>,\n",
       "        <matplotlib.axes._subplots.AxesSubplot object at 0x000001360BD63588>,\n",
       "        <matplotlib.axes._subplots.AxesSubplot object at 0x000001360BD93F28>,\n",
       "        <matplotlib.axes._subplots.AxesSubplot object at 0x000001360BDCB908>,\n",
       "        <matplotlib.axes._subplots.AxesSubplot object at 0x000001360BE072E8>]],\n",
       "      dtype=object)"
      ]
     },
     "execution_count": 6,
     "metadata": {},
     "output_type": "execute_result"
    },
    {
     "data": {
      "image/png": "[encoded data removed]",
      "text/plain": [
       "<Figure size 432x288 with 25 Axes>"
      ]
     },
     "metadata": {
      "needs_background": "light"
     },
     "output_type": "display_data"
    }
   ],
   "source": [
    "# Dataのデータフレームのヒストグラムを作成\n",
    "data.hist()"
   ]
  },
  {
   "cell_type": "markdown",
   "metadata": {},
   "source": [
    "# Problem"
   ]
  },
  {
   "cell_type": "markdown",
   "metadata": {},
   "source": [
    "Consider the models\n",
    "Model 1: log(𝑤𝑎𝑔𝑒) = 𝛽0 + 𝛽1 * 𝑓𝑒𝑚𝑎𝑙𝑒 + 𝛽2 * 𝑚𝑎𝑟𝑟𝑖𝑒𝑑 + 𝛽3 * 𝑠𝑚𝑠𝑎 + 𝛽4 * 𝑒𝑑𝑢𝑐 + 𝛽5 * 𝑡𝑒𝑛𝑢𝑟𝑒 + 𝛽6 * 𝑒𝑥𝑝𝑒𝑟 + 𝑢\n",
    "Model 2: log(𝑤𝑎𝑔𝑒) = 𝛾0 + 𝛾1 * 𝑓𝑒𝑚𝑎𝑙𝑒 + 𝛾2 * 𝑚𝑎𝑟𝑟𝑖𝑒𝑑 + 𝛾3 * 𝑓𝑒𝑚𝑎𝑙𝑒 * 𝑚𝑎𝑟𝑟𝑖𝑒𝑑 + 𝛾4 * 𝑠𝑚𝑠𝑎 + 𝛾5 * 𝑒𝑑𝑢𝑐 + 𝛾6 * 𝑡𝑒𝑛𝑢𝑟𝑒 + 𝛾7 * 𝑒𝑥𝑝𝑒𝑟 + 𝛾8 * 𝑒𝑥𝑝𝑒𝑟**2 + v"
   ]
  },
  {
   "cell_type": "markdown",
   "metadata": {},
   "source": [
    "## (ⅰ)"
   ]
  },
  {
   "cell_type": "markdown",
   "metadata": {},
   "source": [
    "Estimate Models 1 and 2 under Assumptions MLR.1–MLR.4. Because the error terms are not assumed\n",
    "to be homoskedastic, use the heteroskedasticity-robust standard errors. Report the results of the two\n",
    "models in a table."
   ]
  },
  {
   "cell_type": "code",
   "execution_count": 7,
   "metadata": {},
   "outputs": [
    {
     "name": "stderr",
     "output_type": "stream",
     "text": [
      "C:\\Users\\Yuzi\\Anaconda3\\lib\\site-packages\\numpy\\core\\fromnumeric.py:2389: FutureWarning: Method .ptp is deprecated and will be removed in a future version. Use numpy.ptp instead.\n",
      "  return ptp(axis=axis, out=out, **kwargs)\n"
     ]
    },
    {
     "data": {
      "text/html": [
       "<table class=\"simpletable\">\n",
       "<caption>OLS Regression Results</caption>\n",
       "<tr>\n",
       "  <th>Dep. Variable:</th>          <td>lwage</td>      <th>  R-squared:         </th> <td>   0.421</td>\n",
       "</tr>\n",
       "<tr>\n",
       "  <th>Model:</th>                   <td>OLS</td>       <th>  Adj. R-squared:    </th> <td>   0.414</td>\n",
       "</tr>\n",
       "<tr>\n",
       "  <th>Method:</th>             <td>Least Squares</td>  <th>  F-statistic:       </th> <td>   62.87</td>\n",
       "</tr>\n",
       "<tr>\n",
       "  <th>Date:</th>             <td>Wed, 06 Nov 2019</td> <th>  Prob (F-statistic):</th> <td>1.66e-58</td>\n",
       "</tr>\n",
       "<tr>\n",
       "  <th>Time:</th>                 <td>16:41:39</td>     <th>  Log-Likelihood:    </th> <td> -269.77</td>\n",
       "</tr>\n",
       "<tr>\n",
       "  <th>No. Observations:</th>      <td>   526</td>      <th>  AIC:               </th> <td>   553.5</td>\n",
       "</tr>\n",
       "<tr>\n",
       "  <th>Df Residuals:</th>          <td>   519</td>      <th>  BIC:               </th> <td>   583.4</td>\n",
       "</tr>\n",
       "<tr>\n",
       "  <th>Df Model:</th>              <td>     6</td>      <th>                     </th>     <td> </td>   \n",
       "</tr>\n",
       "<tr>\n",
       "  <th>Covariance Type:</th>      <td>nonrobust</td>    <th>                     </th>     <td> </td>   \n",
       "</tr>\n",
       "</table>\n",
       "<table class=\"simpletable\">\n",
       "<tr>\n",
       "     <td></td>        <th>coef</th>     <th>std err</th>      <th>t</th>      <th>P>|t|</th>  <th>[0.025</th>    <th>0.975]</th>  \n",
       "</tr>\n",
       "<tr>\n",
       "  <th>const</th>   <td>    0.4381</td> <td>    0.101</td> <td>    4.355</td> <td> 0.000</td> <td>    0.240</td> <td>    0.636</td>\n",
       "</tr>\n",
       "<tr>\n",
       "  <th>female</th>  <td>   -0.2898</td> <td>    0.037</td> <td>   -7.880</td> <td> 0.000</td> <td>   -0.362</td> <td>   -0.218</td>\n",
       "</tr>\n",
       "<tr>\n",
       "  <th>married</th> <td>    0.1419</td> <td>    0.040</td> <td>    3.577</td> <td> 0.000</td> <td>    0.064</td> <td>    0.220</td>\n",
       "</tr>\n",
       "<tr>\n",
       "  <th>smsa</th>    <td>    0.1614</td> <td>    0.041</td> <td>    3.935</td> <td> 0.000</td> <td>    0.081</td> <td>    0.242</td>\n",
       "</tr>\n",
       "<tr>\n",
       "  <th>educ</th>    <td>    0.0781</td> <td>    0.007</td> <td>   11.096</td> <td> 0.000</td> <td>    0.064</td> <td>    0.092</td>\n",
       "</tr>\n",
       "<tr>\n",
       "  <th>tenure</th>  <td>    0.0162</td> <td>    0.003</td> <td>    5.536</td> <td> 0.000</td> <td>    0.010</td> <td>    0.022</td>\n",
       "</tr>\n",
       "<tr>\n",
       "  <th>exper</th>   <td>    0.0034</td> <td>    0.002</td> <td>    2.046</td> <td> 0.041</td> <td>    0.000</td> <td>    0.007</td>\n",
       "</tr>\n",
       "</table>\n",
       "<table class=\"simpletable\">\n",
       "<tr>\n",
       "  <th>Omnibus:</th>       <td>14.583</td> <th>  Durbin-Watson:     </th> <td>   1.838</td>\n",
       "</tr>\n",
       "<tr>\n",
       "  <th>Prob(Omnibus):</th> <td> 0.001</td> <th>  Jarque-Bera (JB):  </th> <td>  28.449</td>\n",
       "</tr>\n",
       "<tr>\n",
       "  <th>Skew:</th>          <td> 0.088</td> <th>  Prob(JB):          </th> <td>6.64e-07</td>\n",
       "</tr>\n",
       "<tr>\n",
       "  <th>Kurtosis:</th>      <td> 4.126</td> <th>  Cond. No.          </th> <td>    142.</td>\n",
       "</tr>\n",
       "</table><br/><br/>Warnings:<br/>[1] Standard Errors assume that the covariance matrix of the errors is correctly specified."
      ],
      "text/plain": [
       "<class 'statsmodels.iolib.summary.Summary'>\n",
       "\"\"\"\n",
       "                            OLS Regression Results                            \n",
       "==============================================================================\n",
       "Dep. Variable:                  lwage   R-squared:                       0.421\n",
       "Model:                            OLS   Adj. R-squared:                  0.414\n",
       "Method:                 Least Squares   F-statistic:                     62.87\n",
       "Date:                Wed, 06 Nov 2019   Prob (F-statistic):           1.66e-58\n",
       "Time:                        16:41:39   Log-Likelihood:                -269.77\n",
       "No. Observations:                 526   AIC:                             553.5\n",
       "Df Residuals:                     519   BIC:                             583.4\n",
       "Df Model:                           6                                         \n",
       "Covariance Type:            nonrobust                                         \n",
       "==============================================================================\n",
       "                 coef    std err          t      P>|t|      [0.025      0.975]\n",
       "------------------------------------------------------------------------------\n",
       "const          0.4381      0.101      4.355      0.000       0.240       0.636\n",
       "female        -0.2898      0.037     -7.880      0.000      -0.362      -0.218\n",
       "married        0.1419      0.040      3.577      0.000       0.064       0.220\n",
       "smsa           0.1614      0.041      3.935      0.000       0.081       0.242\n",
       "educ           0.0781      0.007     11.096      0.000       0.064       0.092\n",
       "tenure         0.0162      0.003      5.536      0.000       0.010       0.022\n",
       "exper          0.0034      0.002      2.046      0.041       0.000       0.007\n",
       "==============================================================================\n",
       "Omnibus:                       14.583   Durbin-Watson:                   1.838\n",
       "Prob(Omnibus):                  0.001   Jarque-Bera (JB):               28.449\n",
       "Skew:                           0.088   Prob(JB):                     6.64e-07\n",
       "Kurtosis:                       4.126   Cond. No.                         142.\n",
       "==============================================================================\n",
       "\n",
       "Warnings:\n",
       "[1] Standard Errors assume that the covariance matrix of the errors is correctly specified.\n",
       "\"\"\""
      ]
     },
     "execution_count": 7,
     "metadata": {},
     "output_type": "execute_result"
    }
   ],
   "source": [
    "# model1\n",
    "#  log(𝑤𝑎𝑔𝑒) = 𝛽0 + 𝛽1 * 𝑓𝑒𝑚𝑎𝑙𝑒 + 𝛽2 * 𝑚𝑎𝑟𝑟𝑖𝑒𝑑 + 𝛽3 * 𝑠𝑚𝑠𝑎 + 𝛽4 * 𝑒𝑑𝑢𝑐 + 𝛽5 * 𝑡𝑒𝑛𝑢𝑟𝑒 + 𝛽6 * 𝑒𝑥𝑝𝑒𝑟 + u\n",
    "\n",
    "\n",
    "# Choose the variables\n",
    "y = data[\"lwage\"]\n",
    "x2 = data[[\"female\",\"married\", \"smsa\", \"educ\", \"tenure\", \"exper\"]]\n",
    "\n",
    "# Run the regression\n",
    "x = sm.add_constant(x2)\n",
    "model1 = sm.OLS(y,x).fit()\n",
    "\n",
    "# Show the results\n",
    "model1.summary()"
   ]
  },
  {
   "cell_type": "code",
   "execution_count": 8,
   "metadata": {},
   "outputs": [
    {
     "data": {
      "text/html": [
       "<table class=\"simpletable\">\n",
       "<caption>OLS Regression Results</caption>\n",
       "<tr>\n",
       "  <th>Dep. Variable:</th>          <td>lwage</td>      <th>  R-squared:         </th> <td>   0.472</td>\n",
       "</tr>\n",
       "<tr>\n",
       "  <th>Model:</th>                   <td>OLS</td>       <th>  Adj. R-squared:    </th> <td>   0.463</td>\n",
       "</tr>\n",
       "<tr>\n",
       "  <th>Method:</th>             <td>Least Squares</td>  <th>  F-statistic:       </th> <td>   57.68</td>\n",
       "</tr>\n",
       "<tr>\n",
       "  <th>Date:</th>             <td>Wed, 06 Nov 2019</td> <th>  Prob (F-statistic):</th> <td>7.57e-67</td>\n",
       "</tr>\n",
       "<tr>\n",
       "  <th>Time:</th>                 <td>16:41:39</td>     <th>  Log-Likelihood:    </th> <td> -245.67</td>\n",
       "</tr>\n",
       "<tr>\n",
       "  <th>No. Observations:</th>      <td>   526</td>      <th>  AIC:               </th> <td>   509.3</td>\n",
       "</tr>\n",
       "<tr>\n",
       "  <th>Df Residuals:</th>          <td>   517</td>      <th>  BIC:               </th> <td>   547.7</td>\n",
       "</tr>\n",
       "<tr>\n",
       "  <th>Df Model:</th>              <td>     8</td>      <th>                     </th>     <td> </td>   \n",
       "</tr>\n",
       "<tr>\n",
       "  <th>Covariance Type:</th>      <td>nonrobust</td>    <th>                     </th>     <td> </td>   \n",
       "</tr>\n",
       "</table>\n",
       "<table class=\"simpletable\">\n",
       "<tr>\n",
       "     <td></td>        <th>coef</th>     <th>std err</th>      <th>t</th>      <th>P>|t|</th>  <th>[0.025</th>    <th>0.975]</th>  \n",
       "</tr>\n",
       "<tr>\n",
       "  <th>const</th>   <td>    0.2702</td> <td>    0.100</td> <td>    2.711</td> <td> 0.007</td> <td>    0.074</td> <td>    0.466</td>\n",
       "</tr>\n",
       "<tr>\n",
       "  <th>female</th>  <td>   -0.1188</td> <td>    0.055</td> <td>   -2.150</td> <td> 0.032</td> <td>   -0.227</td> <td>   -0.010</td>\n",
       "</tr>\n",
       "<tr>\n",
       "  <th>married</th> <td>    0.2280</td> <td>    0.055</td> <td>    4.164</td> <td> 0.000</td> <td>    0.120</td> <td>    0.336</td>\n",
       "</tr>\n",
       "<tr>\n",
       "  <th>fem_mar</th> <td>   -0.2950</td> <td>    0.071</td> <td>   -4.151</td> <td> 0.000</td> <td>   -0.435</td> <td>   -0.155</td>\n",
       "</tr>\n",
       "<tr>\n",
       "  <th>smsa</th>    <td>    0.1568</td> <td>    0.039</td> <td>    3.991</td> <td> 0.000</td> <td>    0.080</td> <td>    0.234</td>\n",
       "</tr>\n",
       "<tr>\n",
       "  <th>educ</th>    <td>    0.0738</td> <td>    0.007</td> <td>   10.900</td> <td> 0.000</td> <td>    0.061</td> <td>    0.087</td>\n",
       "</tr>\n",
       "<tr>\n",
       "  <th>tenure</th>  <td>    0.0143</td> <td>    0.003</td> <td>    5.086</td> <td> 0.000</td> <td>    0.009</td> <td>    0.020</td>\n",
       "</tr>\n",
       "<tr>\n",
       "  <th>exper</th>   <td>    0.0302</td> <td>    0.005</td> <td>    5.996</td> <td> 0.000</td> <td>    0.020</td> <td>    0.040</td>\n",
       "</tr>\n",
       "<tr>\n",
       "  <th>expersq</th> <td>   -0.0006</td> <td>    0.000</td> <td>   -5.605</td> <td> 0.000</td> <td>   -0.001</td> <td>   -0.000</td>\n",
       "</tr>\n",
       "</table>\n",
       "<table class=\"simpletable\">\n",
       "<tr>\n",
       "  <th>Omnibus:</th>       <td>18.012</td> <th>  Durbin-Watson:     </th> <td>   1.821</td>\n",
       "</tr>\n",
       "<tr>\n",
       "  <th>Prob(Omnibus):</th> <td> 0.000</td> <th>  Jarque-Bera (JB):  </th> <td>  41.175</td>\n",
       "</tr>\n",
       "<tr>\n",
       "  <th>Skew:</th>          <td>-0.049</td> <th>  Prob(JB):          </th> <td>1.15e-09</td>\n",
       "</tr>\n",
       "<tr>\n",
       "  <th>Kurtosis:</th>      <td> 4.367</td> <th>  Cond. No.          </th> <td>5.01e+03</td>\n",
       "</tr>\n",
       "</table><br/><br/>Warnings:<br/>[1] Standard Errors assume that the covariance matrix of the errors is correctly specified.<br/>[2] The condition number is large, 5.01e+03. This might indicate that there are<br/>strong multicollinearity or other numerical problems."
      ],
      "text/plain": [
       "<class 'statsmodels.iolib.summary.Summary'>\n",
       "\"\"\"\n",
       "                            OLS Regression Results                            \n",
       "==============================================================================\n",
       "Dep. Variable:                  lwage   R-squared:                       0.472\n",
       "Model:                            OLS   Adj. R-squared:                  0.463\n",
       "Method:                 Least Squares   F-statistic:                     57.68\n",
       "Date:                Wed, 06 Nov 2019   Prob (F-statistic):           7.57e-67\n",
       "Time:                        16:41:39   Log-Likelihood:                -245.67\n",
       "No. Observations:                 526   AIC:                             509.3\n",
       "Df Residuals:                     517   BIC:                             547.7\n",
       "Df Model:                           8                                         \n",
       "Covariance Type:            nonrobust                                         \n",
       "==============================================================================\n",
       "                 coef    std err          t      P>|t|      [0.025      0.975]\n",
       "------------------------------------------------------------------------------\n",
       "const          0.2702      0.100      2.711      0.007       0.074       0.466\n",
       "female        -0.1188      0.055     -2.150      0.032      -0.227      -0.010\n",
       "married        0.2280      0.055      4.164      0.000       0.120       0.336\n",
       "fem_mar       -0.2950      0.071     -4.151      0.000      -0.435      -0.155\n",
       "smsa           0.1568      0.039      3.991      0.000       0.080       0.234\n",
       "educ           0.0738      0.007     10.900      0.000       0.061       0.087\n",
       "tenure         0.0143      0.003      5.086      0.000       0.009       0.020\n",
       "exper          0.0302      0.005      5.996      0.000       0.020       0.040\n",
       "expersq       -0.0006      0.000     -5.605      0.000      -0.001      -0.000\n",
       "==============================================================================\n",
       "Omnibus:                       18.012   Durbin-Watson:                   1.821\n",
       "Prob(Omnibus):                  0.000   Jarque-Bera (JB):               41.175\n",
       "Skew:                          -0.049   Prob(JB):                     1.15e-09\n",
       "Kurtosis:                       4.367   Cond. No.                     5.01e+03\n",
       "==============================================================================\n",
       "\n",
       "Warnings:\n",
       "[1] Standard Errors assume that the covariance matrix of the errors is correctly specified.\n",
       "[2] The condition number is large, 5.01e+03. This might indicate that there are\n",
       "strong multicollinearity or other numerical problems.\n",
       "\"\"\""
      ]
     },
     "execution_count": 8,
     "metadata": {},
     "output_type": "execute_result"
    }
   ],
   "source": [
    "# model2\n",
    "# log(𝑤𝑎𝑔𝑒) = 𝛾0 + 𝛾1 * 𝑓𝑒𝑚𝑎𝑙𝑒 + 𝛾2 * 𝑚𝑎𝑟𝑟𝑖𝑒𝑑 + 𝛾3 * 𝑓𝑒𝑚𝑎𝑙𝑒 * 𝑚𝑎𝑟𝑟𝑖𝑒𝑑 + \n",
    "#              𝛾4 * 𝑠𝑚𝑠𝑎 + 𝛾5 * 𝑒𝑑𝑢𝑐 + 𝛾6 * 𝑡𝑒𝑛𝑢𝑟𝑒 + 𝛾7 * 𝑒𝑥𝑝𝑒𝑟 + 𝛾8 * 𝑒𝑥𝑝𝑒𝑟**2 + vv\n",
    "# Generate the variables for model 2\n",
    "data[\"fem_mar\"] = data[\"female\"] * data[\"married\"]\n",
    "\n",
    "# Choose the variables\n",
    "y = data[\"lwage\"]\n",
    "x2 = data[[\"female\",\"married\", \"fem_mar\", \"smsa\", \"educ\", \"tenure\", \"exper\", \"expersq\"]]\n",
    "\n",
    "# Run the regression\n",
    "x = sm.add_constant(x2)\n",
    "model2 = sm.OLS(y,x).fit()\n",
    "\n",
    "# Show the results\n",
    "model2.summary()"
   ]
  },
  {
   "cell_type": "code",
   "execution_count": 9,
   "metadata": {},
   "outputs": [
    {
     "data": {
      "text/plain": [
       "const      0.112666\n",
       "female     0.037204\n",
       "married    0.039314\n",
       "smsa       0.040578\n",
       "educ       0.008079\n",
       "tenure     0.003434\n",
       "exper      0.001551\n",
       "dtype: float64"
      ]
     },
     "execution_count": 9,
     "metadata": {},
     "output_type": "execute_result"
    }
   ],
   "source": [
    "model1.HC0_se"
   ]
  },
  {
   "cell_type": "code",
   "execution_count": 10,
   "metadata": {},
   "outputs": [
    {
     "data": {
      "text/plain": [
       "const      0.107541\n",
       "female     0.056613\n",
       "married    0.056404\n",
       "fem_mar    0.071541\n",
       "smsa       0.039726\n",
       "educ       0.007587\n",
       "tenure     0.003289\n",
       "exper      0.004759\n",
       "expersq    0.000098\n",
       "dtype: float64"
      ]
     },
     "execution_count": 10,
     "metadata": {},
     "output_type": "execute_result"
    }
   ],
   "source": [
    "model2.HC0_se"
   ]
  },
  {
   "cell_type": "markdown",
   "metadata": {},
   "source": [
    "## (ⅱ)"
   ]
  },
  {
   "cell_type": "markdown",
   "metadata": {},
   "source": [
    "For Model 2, using the approximation %Δ𝑤̂𝑎𝑔𝑒 = 100(𝛾̂7 + 2𝛾̂8𝑒𝑥𝑝𝑒𝑟)Δ𝑒𝑥𝑝𝑒𝑟, find the approximate\n",
    "return to the twentieth year of experience and its standard error (When reporting numbers, be\n",
    "careful to clearly write the units of them)."
   ]
  },
  {
   "cell_type": "code",
   "execution_count": 11,
   "metadata": {},
   "outputs": [],
   "source": [
    "# perc_delta_wage = 100 * (ganma_7_hat + 2 * ganma_8_hat * exper) * delta_exper\n",
    "\n",
    "ganma_7_hat =  0.0302\n",
    "ganma_8_hat = -0.0006\n",
    "exper = 19\n",
    "delta_exper = 1\n",
    "perc_delta_wage = 100 * (ganma_7_hat + 2 * ganma_8_hat * exper) * delta_exper"
   ]
  },
  {
   "cell_type": "code",
   "execution_count": 12,
   "metadata": {},
   "outputs": [
    {
     "data": {
      "text/plain": [
       "0.7400000000000004"
      ]
     },
     "execution_count": 12,
     "metadata": {},
     "output_type": "execute_result"
    }
   ],
   "source": [
    "perc_delta_wage"
   ]
  },
  {
   "cell_type": "code",
   "execution_count": 13,
   "metadata": {},
   "outputs": [
    {
     "data": {
      "image/png": "[encoded data removed]",
      "text/plain": [
       "<Figure size 864x576 with 4 Axes>"
      ]
     },
     "metadata": {
      "needs_background": "light"
     },
     "output_type": "display_data"
    }
   ],
   "source": [
    "fig = plt.figure(figsize=(12,8))\n",
    "fig = sm.graphics.plot_regress_exog(model2, \"educ\", fig=fig)"
   ]
  },
  {
   "cell_type": "code",
   "execution_count": 14,
   "metadata": {},
   "outputs": [],
   "source": [
    "#var_cap_gamma_ = "
   ]
  },
  {
   "cell_type": "markdown",
   "metadata": {},
   "source": [
    "## (ⅲ)"
   ]
  },
  {
   "cell_type": "code",
   "execution_count": 15,
   "metadata": {},
   "outputs": [],
   "source": [
    "turnaround = -(ganma_7_hat / (2 * ganma_8_hat))"
   ]
  },
  {
   "cell_type": "code",
   "execution_count": 16,
   "metadata": {},
   "outputs": [
    {
     "data": {
      "text/plain": [
       "25.16666666666667"
      ]
     },
     "execution_count": 16,
     "metadata": {},
     "output_type": "execute_result"
    }
   ],
   "source": [
    "turnaround"
   ]
  },
  {
   "cell_type": "code",
   "execution_count": 17,
   "metadata": {},
   "outputs": [
    {
     "data": {
      "text/plain": [
       "141"
      ]
     },
     "execution_count": 17,
     "metadata": {},
     "output_type": "execute_result"
    }
   ],
   "source": [
    "len(data[data.exper >= 25.166])"
   ]
  },
  {
   "cell_type": "markdown",
   "metadata": {},
   "source": [
    "For Model 2, at what value of 𝑒𝑥𝑝𝑒𝑟 does additional experience actually lower predicted log(𝑤𝑎𝑔𝑒)?\n",
    "How many people have more experience than the turnaround point in this sample?\n"
   ]
  },
  {
   "cell_type": "code",
   "execution_count": 19,
   "metadata": {},
   "outputs": [
    {
     "name": "stdout",
     "output_type": "stream",
     "text": [
      "{'LM Statistic': 36.066882008934016, 'LM-Test p-value': 0.05407272613692939, 'F-Statistic': 1.536732534072592, 'F-Test p-value': 0.05061825252530686}\n"
     ]
    }
   ],
   "source": []
  },
  {
   "cell_type": "markdown",
   "metadata": {},
   "source": [
    "## (ⅳ)"
   ]
  },
  {
   "cell_type": "code",
   "execution_count": 18,
   "metadata": {},
   "outputs": [],
   "source": [
    "white_test = het_white(model1.resid,  model1.model.exog)\n",
    "\n",
    "labels = ['LM Statistic', 'LM-Test p-value', 'F-Statistic', 'F-Test p-value']\n",
    "print(dict(zip(labels, white_test)))"
   ]
  },
  {
   "cell_type": "markdown",
   "metadata": {},
   "source": [
    "For Model 1, test whether the error term is homoskedastic or not, by performing the White test for\n",
    "heteroskedasticity at the 10% level."
   ]
  },
  {
   "cell_type": "markdown",
   "metadata": {},
   "source": [
    "## (ⅴ)"
   ]
  },
  {
   "cell_type": "markdown",
   "metadata": {},
   "source": [
    "For Model 2, test whether the error term is homoskedastic or not, by performing the White test for\n",
    "heteroskedasticity at the 10% level."
   ]
  },
  {
   "cell_type": "code",
   "execution_count": 20,
   "metadata": {},
   "outputs": [
    {
     "name": "stdout",
     "output_type": "stream",
     "text": [
      "{'LM Statistic': 39.406618715585665, 'LM-Test p-value': 0.3200576325274433, 'F-Statistic': 1.1000421669124687, 'F-Test p-value': 0.3208535521965551}\n"
     ]
    }
   ],
   "source": [
    "white_test2 = het_white(model2.resid,  model2.model.exog)\n",
    "\n",
    "labels = ['LM Statistic', 'LM-Test p-value', 'F-Statistic', 'F-Test p-value']\n",
    "print(dict(zip(labels, white_test2)))"
   ]
  },
  {
   "cell_type": "markdown",
   "metadata": {},
   "source": [
    "## (ⅵ)"
   ]
  },
  {
   "cell_type": "markdown",
   "metadata": {},
   "source": [
    "Given that 𝑓𝑒𝑚𝑎𝑙𝑒 is statistically significant in Models 1 and 2, interpret 𝛽̂\n",
    "1 and 𝛾̂1. (You do not have\n",
    "to discuss statistical significance.)\n"
   ]
  }
 ],
 "metadata": {
  "kernelspec": {
   "display_name": "Python 3",
   "language": "python",
   "name": "python3"
  },
  "language_info": {
   "codemirror_mode": {
    "name": "ipython",
    "version": 3
   },
   "file_extension": ".py",
   "mimetype": "text/x-python",
   "name": "python",
   "nbconvert_exporter": "python",
   "pygments_lexer": "ipython3",
   "version": "3.7.3"
  },
  "latex_envs": {
   "LaTeX_envs_menu_present": true,
   "autoclose": false,
   "autocomplete": true,
   "bibliofile": "biblio.bib",
   "cite_by": "apalike",
   "current_citInitial": 1,
   "eqLabelWithNumbers": true,
   "eqNumInitial": 1,
   "hotkeys": {
    "equation": "Ctrl-E",
    "itemize": "Ctrl-I"
   },
   "labels_anchors": false,
   "latex_user_defs": false,
   "report_style_numbering": false,
   "user_envs_cfg": false
  },
  "toc": {
   "base_numbering": 1,
   "nav_menu": {},
   "number_sections": true,
   "sideBar": true,
   "skip_h1_title": false,
   "title_cell": "Table of Contents",
   "title_sidebar": "Contents",
   "toc_cell": false,
   "toc_position": {},
   "toc_section_display": true,
   "toc_window_display": false
  }
 },
 "nbformat": 4,
 "nbformat_minor": 2
}
